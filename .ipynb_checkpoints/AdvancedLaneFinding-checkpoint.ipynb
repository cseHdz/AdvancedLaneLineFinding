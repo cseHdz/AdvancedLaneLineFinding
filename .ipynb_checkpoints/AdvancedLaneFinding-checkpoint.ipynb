{
 "cells": [
  {
   "cell_type": "markdown",
   "metadata": {},
   "source": [
    "## Advanced Lane Finding Project\n",
    "\n",
    "The goals / steps of this project are the following:\n",
    "\n",
    "1. [Camera Calibration](#calibration)\n",
    "2. [Distortion Correction](#distortion)\n",
    "3. [Tranformations To A Binary Image](#transformations)\n",
    "4. [Perspective Transform](#perspective)\n",
    "5. [Detect Line Boundaries](#boundaries)\n",
    "5. [Lane Curvature & Vehicle Center](#curvature)\n",
    "5. [Unwarp Image](#unwarp)\n",
    "7. [Render Lane Lines](#render)\n",
    "\n",
    "---"
   ]
  },
  {
   "cell_type": "markdown",
   "metadata": {},
   "source": [
    "## Camera Calibration <a name=\"calibration\"></a>\n",
    "\n",
    "Goal: Compute the camera calibration matrix and distortion coefficients given a set of chessboard images."
   ]
  },
  {
   "cell_type": "code",
   "execution_count": 2,
   "metadata": {},
   "outputs": [],
   "source": [
    "def calibrate_camera(nx, ny, images, DEBUG = False, SHOW_IMAGES = False):\n",
    "    \n",
    "    \"\"\"\n",
    "    Calibrate camera using a set of calibration images with chessboards.\n",
    "    Returns:\n",
    "        mtx: Camera Matrix\n",
    "        dist: Distortion coefficients\n",
    "    \"\"\"\n",
    "\n",
    "    # 3-D points: (x, y, z)\n",
    "    objp = np.zeros((nx*ny,3), np.float32)\n",
    "    objp[:,:2] = np.mgrid[0:nx,0:ny].T.reshape(-1,2)\n",
    "\n",
    "    # Arrays to store object points and image points from all the images.\n",
    "    objpoints = [] # 3d points in real world space\n",
    "    imgpoints = [] # 2d points in image plane.\n",
    "\n",
    "\n",
    "    # Step through the list and search for chessboard corners\n",
    "    for i in range(0, len(images)):\n",
    "        \n",
    "        # Read Image\n",
    "        img = cv2.imread(images[i])\n",
    "        \n",
    "        # Convert to Gray Scale\n",
    "        gray = cv2.cvtColor(img,cv2.COLOR_BGR2GRAY)\n",
    "\n",
    "        # Find the chessboard corners\n",
    "        ret, corners = cv2.findChessboardCorners(gray, (nx,ny), None)\n",
    "        \n",
    "        if (DEBUG):\n",
    "            print(f\"Image {images[i]} ({i}/{len(images)}) - Corners Found: {ret}\")\n",
    "\n",
    "        # If found, add object points, image points\n",
    "        if ret == True:\n",
    "            objpoints.append(objp)\n",
    "            imgpoints.append(corners)\n",
    "\n",
    "            # Draw and display the corners\n",
    "            cv2.drawChessboardCorners(img, (nx, ny), corners, ret)\n",
    "                   \n",
    "    # Calibrate Camera using object points and image points\n",
    "    # ret, mtx, dist, rvecs, tvecs - Ignoring irrelvant outputs for this project\n",
    "    _, mtx, dist, _, _ = cv2.calibrateCamera(objpoints, imgpoints, \n",
    "                                             gray.shape[::-1],None,None)\n",
    "    \n",
    "    \n",
    "    # Return Camera matrix and distortion coefficients\n",
    "    return mtx, dist"
   ]
  },
  {
   "cell_type": "markdown",
   "metadata": {},
   "source": [
    "## Distortion Correction <a name=\"distortion\"></a>\n",
    "\n",
    "Goal: Apply a distortion correction to raw images."
   ]
  },
  {
   "cell_type": "code",
   "execution_count": 3,
   "metadata": {},
   "outputs": [],
   "source": [
    "def undistort_image(img, mtx, dist):\n",
    "    \n",
    "    \"\"\"\n",
    "    Undistorts the image after camera calibration.\n",
    "    Returns:\n",
    "        img: Undistorted Image\n",
    "    \"\"\"\n",
    "    \n",
    "    return cv2.undistort(img, mtx, dist, None, mtx)"
   ]
  },
  {
   "cell_type": "markdown",
   "metadata": {},
   "source": [
    "## Transformation to Binary Image <a name=\"transformations\"></a>\n",
    "Goal: Use color transforms, gradients, etc., to create a thresholded binary image."
   ]
  },
  {
   "cell_type": "code",
   "execution_count": 4,
   "metadata": {},
   "outputs": [],
   "source": [
    "# Helper Functions\n",
    "def get_gradient(img, vertical_gradient = True, sobel_kernel=3):\n",
    "    \n",
    "    # Calculate the gradient\n",
    "    return cv2.Sobel(img, cv2.CV_64F, vertical_gradient, not(vertical_gradient))\n",
    "\n",
    "def scale_mtx_to_8bit(mtx):\n",
    "    \n",
    "    scale_factor = np.max(mtx)/255 \n",
    "    return (mtx/scale_factor).astype(np.uint8) \n",
    "\n",
    "def apply_thresholds(mtx, threshold=(0,255), scale = False):\n",
    "    \n",
    "    # Scale the matrix to 8-bits\n",
    "    base = scale_mtx_to_8bit(mtx) if scale else mtx\n",
    "\n",
    "    # Prepare a binary matrix of equal size to the base\n",
    "    binary = np.zeros_like(base)\n",
    "    \n",
    "    # Apply thresholds - \"Activate\" pixels that meet criteira\n",
    "    binary[(base >= threshold[0]) & (base <= threshold[1])] = 1\n",
    "    \n",
    "    return binary"
   ]
  },
  {
   "cell_type": "code",
   "execution_count": 5,
   "metadata": {},
   "outputs": [],
   "source": [
    "# Gradient\n",
    "def apply_gradient_thresholds(gradient, threshold=(0,255)):\n",
    "    \n",
    "    # Get the absolute gradient\n",
    "    abs_sobel = np.absolute(gradient)\n",
    "    \n",
    "    # Apply thresholds in a binary matrix\n",
    "    return apply_thresholds(abs_sobel, threshold, scale = True)\n",
    "\n",
    "# Magnitude\n",
    "def apply_magnitude_thresholds(gradient_x, gradient_y, threshold=(0, 255)):\n",
    "    \n",
    "    # Calculate the gradient magnitude\n",
    "    magnitude = np.sqrt(gradient_x**2 + gradient_y**2)\n",
    "    \n",
    "    # Apply thresholds in a binary matrix\n",
    "    return apply_thresholds(magnitude, threshold, scale = True)\n",
    "\n",
    "# Direction\n",
    "def apply_direction_thresholds(gradient_x, gradient_y, threshold=(0, np.pi/2)):\n",
    "    \n",
    "    # Take the absolute value of the gradient direction, \n",
    "    \n",
    "    abs_gradient_direction = np.arctan2(np.absolute(gradient_y), np.absolute(gradient_x))\n",
    "    \n",
    "    # Apply thresholds in a binary matrix\n",
    "    return apply_thresholds(abs_gradient_direction, threshold)"
   ]
  },
  {
   "cell_type": "code",
   "execution_count": 6,
   "metadata": {},
   "outputs": [],
   "source": [
    "# Gradient Pipeline\n",
    "def apply_gradient_pipeline(img):\n",
    "    \n",
    "    gray = cv2.cvtColor(img, cv2.COLOR_RGB2GRAY)\n",
    "\n",
    "    # Calculate the gradient\n",
    "    sobel_x = get_gradient(gray, True, sobel_kernel = 7)\n",
    "    sobel_y = get_gradient(gray, False, sobel_kernel = 7)\n",
    "\n",
    "    gradient_x_mask = apply_gradient_thresholds(sobel_x, threshold = (20,220))\n",
    "    direction_mask = apply_direction_thresholds(sobel_x, sobel_y, threshold = (40*np.pi/180, 70*np.pi/180))\n",
    "    magnitude_mask = apply_magnitude_thresholds(sobel_x, sobel_y, threshold = (50, 200))\n",
    "    \n",
    "    combined = np.zeros_like(direction_mask)\n",
    "    combined[(gradient_x_mask == 1) & ((magnitude_mask == 1) & (direction_mask == 1))] = 1\n",
    "    \n",
    "    return combined"
   ]
  },
  {
   "cell_type": "code",
   "execution_count": 7,
   "metadata": {},
   "outputs": [],
   "source": [
    "# Color\n",
    "def apply_red_threshold(img, threshold = (0, 255)):\n",
    "    \n",
    "    R = img[:,:,0]\n",
    "    return apply_thresholds(R, threshold)\n",
    "\n",
    "def apply_saturation_threshold(img, threshold = (0, 255)):\n",
    "    \n",
    "    hls = cv2.cvtColor(img, cv2.COLOR_RGB2HLS)\n",
    "    S = hls[:,:,2]\n",
    "    return apply_thresholds(S, threshold)\n",
    "\n",
    "def apply_color_pipeline(img):\n",
    "    \n",
    "    R_mask = apply_red_threshold(img, (210,255))\n",
    "    S_mask = apply_saturation_threshold(img, (90, 255))\n",
    "    \n",
    "    combined = np.zeros_like(S_mask)\n",
    "    combined[(R_mask == 1) & (S_mask == 1)] = 1\n",
    "    \n",
    "    return combined"
   ]
  },
  {
   "cell_type": "code",
   "execution_count": 8,
   "metadata": {},
   "outputs": [],
   "source": [
    "def get_thresholded_image(img):\n",
    "\n",
    "    gradient_masks = apply_gradient_pipeline(img)\n",
    "    color_masks = apply_color_pipeline(img)\n",
    "    \n",
    "    combined = np.zeros_like(color_masks)\n",
    "    combined[(gradient_masks == 1) | (color_masks == 1)] = 1\n",
    "    \n",
    "    return combined"
   ]
  },
  {
   "cell_type": "markdown",
   "metadata": {},
   "source": [
    "## Perspective Transform <a name=\"perspective\"></a>\n",
    "Goal: Apply a perspective transform to rectify binary image (\"birds-eye view\")."
   ]
  },
  {
   "cell_type": "code",
   "execution_count": 9,
   "metadata": {},
   "outputs": [],
   "source": [
    "def apply_perspective_transform(img, src, dst):\n",
    "    \n",
    "    img_size = (img.shape[1], img.shape[0])\n",
    "    \n",
    "    M = cv2.getPerspectiveTransform(src, dst)\n",
    "    Minv = cv2.getPerspectiveTransform(dst, src)\n",
    "    warped = cv2.warpPerspective(img, M, img_size, flags=cv2.INTER_LINEAR)\n",
    "    \n",
    "    return M, Minv, warped\n",
    "\n",
    "def apply_lane_birds_eye_view(img):\n",
    "    \n",
    "    height = img.shape[0]\n",
    "    width = img.shape[1]\n",
    "\n",
    "    src = np.float32([[280,  700],  # Bottom left\n",
    "                      [595,  460],  # Top left\n",
    "                      [725,  460],  # Top right\n",
    "                      [1125, 700]]) # Bottom right\n",
    "\n",
    "    dst = np.float32([[width*.2,  height],  # Bottom left\n",
    "                      [width*.2,  0],  # Top left\n",
    "                      [width*.8,  0],  # Top right\n",
    "                      [width*.8, height]]) # Bottom right   \n",
    "\n",
    "    return apply_perspective_transform(img, src, dst)\n"
   ]
  },
  {
   "cell_type": "code",
   "execution_count": 10,
   "metadata": {},
   "outputs": [],
   "source": [
    "def draw_lines_from_points(img, points, color=[255, 0, 0], thickness=3):\n",
    "    \n",
    "    for i in range (0, len(points)):\n",
    "        x1,y1 = points[i]\n",
    "        x2,y2 = points[i+1] if i+1 < len(points) else points[0]\n",
    "\n",
    "        cv2.line(img, (x1, y1), (x2, y2), color, thickness)"
   ]
  },
  {
   "cell_type": "markdown",
   "metadata": {},
   "source": [
    "## Detect Line Boundaries <a name=\"boundaries\"></a>\n",
    "Goal: Detect lane pixels and fit to find the lane boundary."
   ]
  },
  {
   "cell_type": "code",
   "execution_count": 11,
   "metadata": {},
   "outputs": [],
   "source": [
    "def get_activation_peaks(img):\n",
    "    \n",
    "    histogram = np.sum(img[img.shape[0]//2:,:], axis=0)\n",
    "\n",
    "    midpoint = np.int(histogram.shape[0]//2)\n",
    "    leftx_base = np.argmax(histogram[:midpoint])\n",
    "    rightx_base = np.argmax(histogram[midpoint:]) + midpoint\n",
    "    \n",
    "    return histogram, leftx_base, rightx_base"
   ]
  },
  {
   "cell_type": "code",
   "execution_count": 12,
   "metadata": {},
   "outputs": [],
   "source": [
    "def fit_second_degree_polynomial(x, y, img_shape, SHOW_IMAGES=False):\n",
    "\n",
    "    # Fit a second order polynomial to each using `np.polyfit`\n",
    "    fit = np.polyfit(y, x, 2)\n",
    "\n",
    "    # Generate x and y values for plotting\n",
    "    ploty = np.linspace(0, img_shape[0]-1, img_shape[0] )\n",
    "    \n",
    "    # x = A*y^2 + B*y + C\n",
    "    fit_x = fit[0]*ploty**2 + fit[1]*ploty + fit[2]\n",
    "    \n",
    "    # Plots the left and right polynomials on the lane lines\n",
    "    if SHOW_IMAGES:\n",
    "        plt.plot(fit_x, ploty, color='yellow')\n",
    "\n",
    "    return fit, fit_x, ploty"
   ]
  },
  {
   "cell_type": "code",
   "execution_count": 13,
   "metadata": {},
   "outputs": [],
   "source": [
    "def find_lane_pixels(img, SHOW_IMAGES = False):\n",
    "      \n",
    "    # Starting positions to be updated later for each window in nwindows\n",
    "    histogram, leftx_current, rightx_current = get_activation_peaks(img)\n",
    "    \n",
    "    nwindows = 9 # Number of sliding windows\n",
    "    margin = 110 # Width of the windows +/- margin\n",
    "    minpix = 50 # Minimum number of pixels found to recenter window\n",
    "\n",
    "    # Set height of windows - split height by number of windows\n",
    "    window_height = np.int(img.shape[0]//nwindows)\n",
    "    \n",
    "    # Identify the x and y positions of all nonzero pixels in the image\n",
    "    nonzero = img.nonzero()\n",
    "    nonzeroy = np.array(nonzero[0])\n",
    "    nonzerox = np.array(nonzero[1])\n",
    "\n",
    "    # Create empty lists to receive left and right lane pixel indices\n",
    "    left_lane_inds = []\n",
    "    right_lane_inds = []\n",
    "    \n",
    "    # Output Image\n",
    "    out_img = np.dstack((img, img, img))*255\n",
    "\n",
    "    # Step through the windows one by one\n",
    "    for window in range(nwindows):\n",
    "        \n",
    "        # Vertical Boundaries\n",
    "        win_y_low = img.shape[0] - (window + 1) * window_height\n",
    "        win_y_high = img.shape[0] - window * window_height\n",
    "        \n",
    "        # Left Lane -----------------------------------------------------------\n",
    "        win_xleft_low = leftx_current - margin # Left Lane - Left Boundary\n",
    "        win_xleft_high = leftx_current + margin # Left Lane - Right Boundary\n",
    "        \n",
    "        # Identify the nonzero pixels in x and y within the window #        \n",
    "        good_left_inds = ((nonzeroy >= win_y_low) & (nonzeroy < win_y_high) & \n",
    "        (nonzerox >= win_xleft_low) &  (nonzerox < win_xleft_high)).nonzero()[0]\n",
    "        \n",
    "        left_lane_inds.append(good_left_inds)\n",
    "        \n",
    "        # If you found > minpix pixels, recenter next window on their mean position\n",
    "        if len(good_left_inds) > minpix:\n",
    "            leftx_current = np.int(np.mean(nonzerox[good_left_inds]))\n",
    "        \n",
    "        # Right Lane -----------------------------------------------------------\n",
    "        win_xright_low = rightx_current - margin # Right Lane - Left Boundary\n",
    "        win_xright_high = rightx_current + margin # Right Lane - Right Boundary\n",
    "        \n",
    "        # Identify the nonzero pixels in x and y within the window #        \n",
    "        good_right_inds = ((nonzeroy >= win_y_low) & (nonzeroy < win_y_high) & \n",
    "        (nonzerox >= win_xright_low) &  (nonzerox < win_xright_high)).nonzero()[0]\n",
    "        \n",
    "        right_lane_inds.append(good_right_inds)\n",
    "            \n",
    "        if len(good_right_inds) > minpix:        \n",
    "            rightx_current = np.int(np.mean(nonzerox[good_right_inds]))\n",
    "            \n",
    "        if SHOW_IMAGES:      \n",
    "            # Draw the windows on the visualization image\n",
    "            \n",
    "            cv2.rectangle(out_img, (win_xleft_low,win_y_low),(win_xleft_high,win_y_high), (0,255,0), 3) \n",
    "            cv2.rectangle(out_img, (win_xright_low,win_y_low),(win_xright_high,win_y_high), (0,255,0), 3) \n",
    "    \n",
    "    # Extract left and right line pixel positions\n",
    "    left_lane_inds = np.concatenate(left_lane_inds)\n",
    "    leftx = nonzerox[left_lane_inds]\n",
    "    lefty = nonzeroy[left_lane_inds] \n",
    "    \n",
    "    right_lane_inds = np.concatenate(right_lane_inds)\n",
    "    rightx = nonzerox[right_lane_inds]\n",
    "    righty = nonzeroy[right_lane_inds]\n",
    "\n",
    "    return leftx, lefty, rightx, righty, out_img"
   ]
  },
  {
   "cell_type": "code",
   "execution_count": 14,
   "metadata": {},
   "outputs": [],
   "source": [
    "def detect_lane_lines(img, SHOW_IMAGES = False):\n",
    "    \n",
    "    leftx, lefty, rightx, righty, out_img = find_lane_pixels(img, SHOW_IMAGES = SHOW_IMAGES)\n",
    "    \n",
    "    if SHOW_IMAGES:\n",
    "        out_img[lefty, leftx] = [255, 0, 0]\n",
    "        out_img[righty, rightx] = [0, 0, 255]\n",
    "\n",
    "    left_fit, left_fitx , _ = fit_second_degree_polynomial(leftx, lefty, out_img.shape, SHOW_IMAGES = SHOW_IMAGES)\n",
    "    right_fit, right_fitx, _ = fit_second_degree_polynomial(rightx, righty, out_img.shape, SHOW_IMAGES = SHOW_IMAGES)\n",
    "    \n",
    "    return (left_fit, right_fit), (left_fitx, right_fitx), out_img"
   ]
  },
  {
   "cell_type": "code",
   "execution_count": 34,
   "metadata": {},
   "outputs": [],
   "source": [
    "def detect_lane_lines_bias(img, left_fit, right_fit, SHOW_IMAGES = False):\n",
    "    \n",
    "    margin = 100 # Width of the windows +/- margin\n",
    "    \n",
    "    if left_fit is None or right_fit is None:\n",
    "        return detect_lane_lines(img)\n",
    "        \n",
    "    # Identify the x and y positions of all nonzero pixels in the image\n",
    "    nonzero = img.nonzero()\n",
    "    nonzeroy = np.array(nonzero[0])\n",
    "    nonzerox = np.array(nonzero[1])\n",
    "    \n",
    "    # Get the left lane from polynomial fit\n",
    "    left_lane_inds = ((nonzerox > (left_fit[0]*(nonzeroy**2) + left_fit[1]*nonzeroy + \n",
    "                    left_fit[2] - margin)) & (nonzerox < (left_fit[0]*(nonzeroy**2) + \n",
    "                    left_fit[1]*nonzeroy + left_fit[2] + margin)))\n",
    "    \n",
    "    leftx = nonzerox[left_lane_inds]\n",
    "    lefty = nonzeroy[left_lane_inds] \n",
    "    \n",
    "    # Get the right lane from polynomial fit\n",
    "    x_right_low = right_fit[0]*(nonzeroy**2) + right_fit[1]*nonzeroy + right_fit[2] - margin\n",
    "    x_right_high = right_fit[0]*(nonzeroy**2) + right_fit[1]*nonzeroy + right_fit[2] + margin\n",
    "    right_lane_inds = ((nonzerox > x_right_low) & (nonzerox < x_right_high))\n",
    "    \n",
    "    rightx = nonzerox[right_lane_inds]\n",
    "    righty = nonzeroy[right_lane_inds]\n",
    "    \n",
    "    # Ensure exhaustive search is performed if any lane dissapears\n",
    "    if (leftx.size == 0 or rightx.size == 0):\n",
    "        return detect_lane_lines(img)\n",
    "\n",
    "    # Fit new polynomials   \n",
    "    left_fit, left_fitx, _ = fit_second_degree_polynomial(leftx, lefty, img.shape[:2])\n",
    "    right_fit, right_fitx, ploty = fit_second_degree_polynomial(rightx, righty, img.shape[:2])\n",
    "    \n",
    "    # Create an image to draw on and an image to show the selection window\n",
    "    out_img = np.dstack((img, img, img))*255\n",
    "    \n",
    "    if SHOW_IMAGES:\n",
    "  \n",
    "        window_img = np.zeros_like(out_img)\n",
    "\n",
    "        # Color in left and right line pixels\n",
    "        out_img[nonzeroy[left_lane_inds], nonzerox[left_lane_inds]] = [255, 0, 0]\n",
    "        out_img[nonzeroy[right_lane_inds], nonzerox[right_lane_inds]] = [0, 0, 255]\n",
    "\n",
    "        # Generate a polygon to illustrate the search window area\n",
    "        # And recast the x and y points into usable format for cv2.fillPoly()\n",
    "        left_line_window1 = np.array([np.transpose(np.vstack([left_fitx-margin, ploty]))])\n",
    "        left_line_window2 = np.array([np.flipud(np.transpose(np.vstack([left_fitx+margin, \n",
    "                                  ploty])))])\n",
    "        left_line_pts = np.hstack((left_line_window1, left_line_window2))\n",
    "        right_line_window1 = np.array([np.transpose(np.vstack([right_fitx-margin, ploty]))])\n",
    "        right_line_window2 = np.array([np.flipud(np.transpose(np.vstack([right_fitx+margin, \n",
    "                                  ploty])))])\n",
    "        right_line_pts = np.hstack((right_line_window1, right_line_window2))\n",
    "\n",
    "        # Draw the lane onto the warped blank image\n",
    "        cv2.fillPoly(window_img, np.int_([left_line_pts]), (0,255, 0))\n",
    "        cv2.fillPoly(window_img, np.int_([right_line_pts]), (0,255, 0))\n",
    "        out_img = cv2.addWeighted(out_img, 1, window_img, 0.3, 0)\n",
    "\n",
    "        # Plot the polynomial lines onto the image\n",
    "        plt.plot(left_fitx, ploty, color='yellow')\n",
    "        plt.plot(right_fitx, ploty, color='yellow')\n",
    "    \n",
    "    return (left_fit, right_fit), (left_fitx, right_fitx), out_img"
   ]
  },
  {
   "cell_type": "markdown",
   "metadata": {},
   "source": [
    "## Lane Curvature & Vehicle Center <a name=\"curvature\"></a>\n",
    "Goal: Determine the curvature of the lane and vehicle position with respect to center."
   ]
  },
  {
   "cell_type": "code",
   "execution_count": 16,
   "metadata": {},
   "outputs": [],
   "source": [
    "def get_curvature_radius(x, img_shape):\n",
    "    \n",
    "    # Define conversions in x and y from pixels space to meters\n",
    "    ym_per_pix = 30/720 # meters per pixel in y dimension\n",
    "    xm_per_pix = 3.7/700 # meters per pixel in x dimension\n",
    "    \n",
    "    ploty = np.linspace(0, img_shape[0] - 1, img_shape[0])\n",
    "    \n",
    "    fit = np.polyfit(ploty*ym_per_pix, x*xm_per_pix, 2)       \n",
    "    y_eval = np.max(ploty)\n",
    "    \n",
    "    # Calculation of R_curve (radius of curvature)\n",
    "    curve_rad = ((1 + (2*fit[0]*y_eval*ym_per_pix + fit[1])**2)**1.5) / np.absolute(2*fit[0])\n",
    "    \n",
    "    return curve_rad"
   ]
  },
  {
   "cell_type": "code",
   "execution_count": 17,
   "metadata": {},
   "outputs": [],
   "source": [
    "def get_lanes_curvature(left_x, right_x, img_shape):\n",
    "    \n",
    "    left_cr = get_curvature_radius(left_x, img_shape)\n",
    "    right_cr = get_curvature_radius(right_x, img_shape)\n",
    "    \n",
    "    return left_cr, right_cr"
   ]
  },
  {
   "cell_type": "code",
   "execution_count": 18,
   "metadata": {},
   "outputs": [],
   "source": [
    "def get_car_offset(left_lane, right_lane, img_shape):\n",
    "    \n",
    "    xm_per_pix = 3.7/700 # meters per pixel in x dimension\n",
    "    mid_offset = (img_shape[1] - left_lane - right_lane)//2\n",
    "    \n",
    "    return mid_offset * xm_per_pix    "
   ]
  },
  {
   "cell_type": "markdown",
   "metadata": {},
   "source": [
    "## Unwarp image <a name=\"unwarp\"></a>\n",
    "Goal: Warp the detected lane boundaries back onto the original image."
   ]
  },
  {
   "cell_type": "code",
   "execution_count": 19,
   "metadata": {},
   "outputs": [],
   "source": [
    "def restore_perspective(img, Minv):\n",
    "    \n",
    "    img_size = (img.shape[1], img.shape[0])\n",
    "    \n",
    "    return cv2.warpPerspective(img, Minv, img_size, flags=cv2.INTER_LINEAR)"
   ]
  },
  {
   "cell_type": "markdown",
   "metadata": {},
   "source": [
    "## Render Lane Lines <a name=\"render\"></a>\n",
    "Goal: Output visual display of the lane boundaries and numerical estimation of lane curvature and vehicle position."
   ]
  },
  {
   "cell_type": "code",
   "execution_count": 20,
   "metadata": {},
   "outputs": [],
   "source": [
    "def highlight_lane(img, left_x, right_x, img_shape):\n",
    "    \n",
    "    # Create an image to draw the lines on\n",
    "    window_img = np.zeros_like(img).astype(np.uint8)\n",
    "    out_img = np.dstack((img, img, img))\n",
    "    \n",
    "    ploty = np.linspace(0, img_shape[0] - 1, img_shape[0])\n",
    "\n",
    "    left_margin = np.array([np.transpose(np.vstack([left_x, ploty]))])\n",
    "    right_margin = np.array([np.flipud(np.transpose(np.vstack([right_x, ploty])))])\n",
    "    lane = np.hstack((left_margin, right_margin))\n",
    "\n",
    "    # Draw the lane\n",
    "    cv2.fillPoly(out_img, np.int_([lane]), (0,255, 0))\n",
    "    \n",
    "    return out_img"
   ]
  },
  {
   "cell_type": "code",
   "execution_count": 21,
   "metadata": {},
   "outputs": [],
   "source": [
    "def add_metrics(img, left_x, right_x):\n",
    "    \n",
    "    size = 1.5\n",
    "    color = (255, 255, 255)\n",
    "    thickness = 3\n",
    "    font = cv2.FONT_HERSHEY_PLAIN\n",
    "    \n",
    "    # Calculate metrics\n",
    "    left_curvature_radius = get_curvature_radius(left_x, img.shape)\n",
    "    right_curvature_radius = get_curvature_radius(right_x, img.shape)\n",
    "\n",
    "    # Display lane curvature\n",
    "    cv2.putText(img, 'Left radius of curvature: {:.2f} m'.format(left_curvature_radius), \n",
    "                (50, 50), cv2.FONT_HERSHEY_SIMPLEX, size, color, thickness)\n",
    "    cv2.putText(img, 'Right radius of curvature: {:.2f} m'.format(right_curvature_radius), \n",
    "                (50, 100), cv2.FONT_HERSHEY_SIMPLEX, size, color, thickness)\n",
    "    \n",
    "    # Calculate car offser\n",
    "    offset = get_car_offset(left_x[-1], right_x[-1], img.shape)\n",
    "    \n",
    "    # Display car offset\n",
    "    cv2.putText(img, 'Vehicle is {:.2f} m left of center'.format(offset), \n",
    "                (50, 150), cv2.FONT_HERSHEY_SIMPLEX, size, color, thickness)\n",
    "    "
   ]
  },
  {
   "cell_type": "markdown",
   "metadata": {},
   "source": [
    "# Final Pipeline"
   ]
  },
  {
   "cell_type": "code",
   "execution_count": 54,
   "metadata": {},
   "outputs": [],
   "source": [
    "class LaneDetector:\n",
    "    def __init__(self, nx, ny, calibration_path):\n",
    "        \n",
    "        cal_images = glob.glob(calibration_path)\n",
    "        self.mtx, self.dist = calibrate_camera(nx, ny, cal_images, DEBUG, SHOW_IMAGES)\n",
    "    \n",
    "        self.line_fit = (None, None)\n",
    "\n",
    "    def __call__(self, img): \n",
    "\n",
    "        # Step 1: Undistoring Image\n",
    "        processed_image = undistort_image(img, self.mtx, self.dist)\n",
    "\n",
    "        # Step 2: Applying Thresholds\n",
    "        processed_image = get_thresholded_image(processed_image) \n",
    "\n",
    "        # Step 3: Changing Perspective\n",
    "        M, Minv, processed_image = apply_lane_birds_eye_view(processed_image)\n",
    "\n",
    "        # Step 4: Detect Lines\n",
    "        self.line_fit, line_points, _ = detect_lane_lines_bias(processed_image, *self.line_fit,                                                           \n",
    "                                                               SHOW_IMAGES = False)\n",
    "\n",
    "        # Step 5: Highlight Lane\n",
    "        lane = highlight_lane(processed_image, line_points[0], line_points[1], processed_image.shape[:2])\n",
    "\n",
    "        # Step 6: Unwarp lane and add to main image\n",
    "        unwarped_lane = restore_perspective(lane, Minv) \n",
    "        final_image = cv2.addWeighted(img, 1, unwarped_lane, 0.3, 0)\n",
    "\n",
    "        # Step 7: Add Metrics\n",
    "        add_metrics(final_image, line_points[0], line_points[1])\n",
    "\n",
    "        return final_image"
   ]
  },
  {
   "cell_type": "markdown",
   "metadata": {},
   "source": [
    "## Setup"
   ]
  },
  {
   "cell_type": "code",
   "execution_count": 36,
   "metadata": {},
   "outputs": [],
   "source": [
    "import os\n",
    "import numpy as np\n",
    "import cv2\n",
    "import glob\n",
    "import matplotlib.pyplot as plt\n",
    "import matplotlib.image as mpimg\n",
    "\n",
    "%matplotlib inline"
   ]
  },
  {
   "cell_type": "code",
   "execution_count": 37,
   "metadata": {},
   "outputs": [],
   "source": [
    "DEBUG = False\n",
    "SHOW_IMAGES = False"
   ]
  },
  {
   "cell_type": "code",
   "execution_count": 55,
   "metadata": {},
   "outputs": [],
   "source": [
    "# Make a list of calibration images\n",
    "base_dir = \"test_images/\"\n",
    "lane_detector = LaneDetector(9, 6, './camera_cal/calibration*.jpg')"
   ]
  },
  {
   "cell_type": "markdown",
   "metadata": {},
   "source": [
    "## Process Test Images"
   ]
  },
  {
   "cell_type": "code",
   "execution_count": 26,
   "metadata": {},
   "outputs": [],
   "source": [
    "for img_path in os.listdir(base_dir):\n",
    "    \n",
    "    output_dir = \"output_images/\"\n",
    "    \n",
    "    img = mpimg.imread(base_dir + img_path)\n",
    "    processed_img = lane_detector(img)\n",
    "\n",
    "    plt.imsave(output_dir + img_path, processed_img)"
   ]
  },
  {
   "cell_type": "markdown",
   "metadata": {},
   "source": [
    "## Process Test Videos"
   ]
  },
  {
   "cell_type": "code",
   "execution_count": 27,
   "metadata": {},
   "outputs": [],
   "source": [
    "# Import everything needed to edit/save/watch video clips\n",
    "from moviepy.editor import VideoFileClip\n",
    "from IPython.display import HTML"
   ]
  },
  {
   "cell_type": "code",
   "execution_count": 51,
   "metadata": {},
   "outputs": [
    {
     "name": "stdout",
     "output_type": "stream",
     "text": [
      "[MoviePy] >>>> Building video output_videos/project_video.mp4\n",
      "[MoviePy] Writing video output_videos/project_video.mp4\n"
     ]
    },
    {
     "name": "stderr",
     "output_type": "stream",
     "text": [
      "  2%|▏         | 25/1261 [00:04<03:54,  5.28it/s]"
     ]
    },
    {
     "ename": "KeyboardInterrupt",
     "evalue": "",
     "output_type": "error",
     "traceback": [
      "\u001b[0;31m---------------------------------------------------------------------------\u001b[0m",
      "\u001b[0;31mKeyboardInterrupt\u001b[0m                         Traceback (most recent call last)",
      "\u001b[0;32m<timed eval>\u001b[0m in \u001b[0;36m<module>\u001b[0;34m()\u001b[0m\n",
      "\u001b[0;32m<decorator-gen-175>\u001b[0m in \u001b[0;36mwrite_videofile\u001b[0;34m(self, filename, fps, codec, bitrate, audio, audio_fps, preset, audio_nbytes, audio_codec, audio_bitrate, audio_bufsize, temp_audiofile, rewrite_audio, remove_temp, write_logfile, verbose, threads, ffmpeg_params, progress_bar)\u001b[0m\n",
      "\u001b[0;32m/opt/conda/lib/python3.6/site-packages/moviepy/decorators.py\u001b[0m in \u001b[0;36mrequires_duration\u001b[0;34m(f, clip, *a, **k)\u001b[0m\n\u001b[1;32m     52\u001b[0m         \u001b[0;32mraise\u001b[0m \u001b[0mValueError\u001b[0m\u001b[0;34m(\u001b[0m\u001b[0;34m\"Attribute 'duration' not set\"\u001b[0m\u001b[0;34m)\u001b[0m\u001b[0;34m\u001b[0m\u001b[0m\n\u001b[1;32m     53\u001b[0m     \u001b[0;32melse\u001b[0m\u001b[0;34m:\u001b[0m\u001b[0;34m\u001b[0m\u001b[0m\n\u001b[0;32m---> 54\u001b[0;31m         \u001b[0;32mreturn\u001b[0m \u001b[0mf\u001b[0m\u001b[0;34m(\u001b[0m\u001b[0mclip\u001b[0m\u001b[0;34m,\u001b[0m \u001b[0;34m*\u001b[0m\u001b[0ma\u001b[0m\u001b[0;34m,\u001b[0m \u001b[0;34m**\u001b[0m\u001b[0mk\u001b[0m\u001b[0;34m)\u001b[0m\u001b[0;34m\u001b[0m\u001b[0m\n\u001b[0m\u001b[1;32m     55\u001b[0m \u001b[0;34m\u001b[0m\u001b[0m\n\u001b[1;32m     56\u001b[0m \u001b[0;34m\u001b[0m\u001b[0m\n",
      "\u001b[0;32m<decorator-gen-174>\u001b[0m in \u001b[0;36mwrite_videofile\u001b[0;34m(self, filename, fps, codec, bitrate, audio, audio_fps, preset, audio_nbytes, audio_codec, audio_bitrate, audio_bufsize, temp_audiofile, rewrite_audio, remove_temp, write_logfile, verbose, threads, ffmpeg_params, progress_bar)\u001b[0m\n",
      "\u001b[0;32m/opt/conda/lib/python3.6/site-packages/moviepy/decorators.py\u001b[0m in \u001b[0;36muse_clip_fps_by_default\u001b[0;34m(f, clip, *a, **k)\u001b[0m\n\u001b[1;32m    135\u001b[0m              for (k,v) in k.items()}\n\u001b[1;32m    136\u001b[0m \u001b[0;34m\u001b[0m\u001b[0m\n\u001b[0;32m--> 137\u001b[0;31m     \u001b[0;32mreturn\u001b[0m \u001b[0mf\u001b[0m\u001b[0;34m(\u001b[0m\u001b[0mclip\u001b[0m\u001b[0;34m,\u001b[0m \u001b[0;34m*\u001b[0m\u001b[0mnew_a\u001b[0m\u001b[0;34m,\u001b[0m \u001b[0;34m**\u001b[0m\u001b[0mnew_kw\u001b[0m\u001b[0;34m)\u001b[0m\u001b[0;34m\u001b[0m\u001b[0m\n\u001b[0m",
      "\u001b[0;32m<decorator-gen-173>\u001b[0m in \u001b[0;36mwrite_videofile\u001b[0;34m(self, filename, fps, codec, bitrate, audio, audio_fps, preset, audio_nbytes, audio_codec, audio_bitrate, audio_bufsize, temp_audiofile, rewrite_audio, remove_temp, write_logfile, verbose, threads, ffmpeg_params, progress_bar)\u001b[0m\n",
      "\u001b[0;32m/opt/conda/lib/python3.6/site-packages/moviepy/decorators.py\u001b[0m in \u001b[0;36mconvert_masks_to_RGB\u001b[0;34m(f, clip, *a, **k)\u001b[0m\n\u001b[1;32m     20\u001b[0m     \u001b[0;32mif\u001b[0m \u001b[0mclip\u001b[0m\u001b[0;34m.\u001b[0m\u001b[0mismask\u001b[0m\u001b[0;34m:\u001b[0m\u001b[0;34m\u001b[0m\u001b[0m\n\u001b[1;32m     21\u001b[0m         \u001b[0mclip\u001b[0m \u001b[0;34m=\u001b[0m \u001b[0mclip\u001b[0m\u001b[0;34m.\u001b[0m\u001b[0mto_RGB\u001b[0m\u001b[0;34m(\u001b[0m\u001b[0;34m)\u001b[0m\u001b[0;34m\u001b[0m\u001b[0m\n\u001b[0;32m---> 22\u001b[0;31m     \u001b[0;32mreturn\u001b[0m \u001b[0mf\u001b[0m\u001b[0;34m(\u001b[0m\u001b[0mclip\u001b[0m\u001b[0;34m,\u001b[0m \u001b[0;34m*\u001b[0m\u001b[0ma\u001b[0m\u001b[0;34m,\u001b[0m \u001b[0;34m**\u001b[0m\u001b[0mk\u001b[0m\u001b[0;34m)\u001b[0m\u001b[0;34m\u001b[0m\u001b[0m\n\u001b[0m\u001b[1;32m     23\u001b[0m \u001b[0;34m\u001b[0m\u001b[0m\n\u001b[1;32m     24\u001b[0m \u001b[0;34m@\u001b[0m\u001b[0mdecorator\u001b[0m\u001b[0;34m.\u001b[0m\u001b[0mdecorator\u001b[0m\u001b[0;34m\u001b[0m\u001b[0m\n",
      "\u001b[0;32m/opt/conda/lib/python3.6/site-packages/moviepy/video/VideoClip.py\u001b[0m in \u001b[0;36mwrite_videofile\u001b[0;34m(self, filename, fps, codec, bitrate, audio, audio_fps, preset, audio_nbytes, audio_codec, audio_bitrate, audio_bufsize, temp_audiofile, rewrite_audio, remove_temp, write_logfile, verbose, threads, ffmpeg_params, progress_bar)\u001b[0m\n\u001b[1;32m    347\u001b[0m                            \u001b[0mverbose\u001b[0m\u001b[0;34m=\u001b[0m\u001b[0mverbose\u001b[0m\u001b[0;34m,\u001b[0m \u001b[0mthreads\u001b[0m\u001b[0;34m=\u001b[0m\u001b[0mthreads\u001b[0m\u001b[0;34m,\u001b[0m\u001b[0;34m\u001b[0m\u001b[0m\n\u001b[1;32m    348\u001b[0m                            \u001b[0mffmpeg_params\u001b[0m\u001b[0;34m=\u001b[0m\u001b[0mffmpeg_params\u001b[0m\u001b[0;34m,\u001b[0m\u001b[0;34m\u001b[0m\u001b[0m\n\u001b[0;32m--> 349\u001b[0;31m                            progress_bar=progress_bar)\n\u001b[0m\u001b[1;32m    350\u001b[0m \u001b[0;34m\u001b[0m\u001b[0m\n\u001b[1;32m    351\u001b[0m         \u001b[0;32mif\u001b[0m \u001b[0mremove_temp\u001b[0m \u001b[0;32mand\u001b[0m \u001b[0mmake_audio\u001b[0m\u001b[0;34m:\u001b[0m\u001b[0;34m\u001b[0m\u001b[0m\n",
      "\u001b[0;32m/opt/conda/lib/python3.6/site-packages/moviepy/video/io/ffmpeg_writer.py\u001b[0m in \u001b[0;36mffmpeg_write_video\u001b[0;34m(clip, filename, fps, codec, bitrate, preset, withmask, write_logfile, audiofile, verbose, threads, ffmpeg_params, progress_bar)\u001b[0m\n\u001b[1;32m    207\u001b[0m \u001b[0;34m\u001b[0m\u001b[0m\n\u001b[1;32m    208\u001b[0m     for t,frame in clip.iter_frames(progress_bar=progress_bar, with_times=True,\n\u001b[0;32m--> 209\u001b[0;31m                                     fps=fps, dtype=\"uint8\"):\n\u001b[0m\u001b[1;32m    210\u001b[0m         \u001b[0;32mif\u001b[0m \u001b[0mwithmask\u001b[0m\u001b[0;34m:\u001b[0m\u001b[0;34m\u001b[0m\u001b[0m\n\u001b[1;32m    211\u001b[0m             \u001b[0mmask\u001b[0m \u001b[0;34m=\u001b[0m \u001b[0;34m(\u001b[0m\u001b[0;36m255\u001b[0m\u001b[0;34m*\u001b[0m\u001b[0mclip\u001b[0m\u001b[0;34m.\u001b[0m\u001b[0mmask\u001b[0m\u001b[0;34m.\u001b[0m\u001b[0mget_frame\u001b[0m\u001b[0;34m(\u001b[0m\u001b[0mt\u001b[0m\u001b[0;34m)\u001b[0m\u001b[0;34m)\u001b[0m\u001b[0;34m\u001b[0m\u001b[0m\n",
      "\u001b[0;32m/opt/conda/lib/python3.6/site-packages/tqdm/_tqdm.py\u001b[0m in \u001b[0;36m__iter__\u001b[0;34m(self)\u001b[0m\n\u001b[1;32m    831\u001b[0m \"\"\", fp_write=getattr(self.fp, 'write', sys.stderr.write))\n\u001b[1;32m    832\u001b[0m \u001b[0;34m\u001b[0m\u001b[0m\n\u001b[0;32m--> 833\u001b[0;31m             \u001b[0;32mfor\u001b[0m \u001b[0mobj\u001b[0m \u001b[0;32min\u001b[0m \u001b[0miterable\u001b[0m\u001b[0;34m:\u001b[0m\u001b[0;34m\u001b[0m\u001b[0m\n\u001b[0m\u001b[1;32m    834\u001b[0m                 \u001b[0;32myield\u001b[0m \u001b[0mobj\u001b[0m\u001b[0;34m\u001b[0m\u001b[0m\n\u001b[1;32m    835\u001b[0m                 \u001b[0;31m# Update and print the progressbar.\u001b[0m\u001b[0;34m\u001b[0m\u001b[0;34m\u001b[0m\u001b[0m\n",
      "\u001b[0;32m/opt/conda/lib/python3.6/site-packages/moviepy/Clip.py\u001b[0m in \u001b[0;36mgenerator\u001b[0;34m()\u001b[0m\n\u001b[1;32m    473\u001b[0m         \u001b[0;32mdef\u001b[0m \u001b[0mgenerator\u001b[0m\u001b[0;34m(\u001b[0m\u001b[0;34m)\u001b[0m\u001b[0;34m:\u001b[0m\u001b[0;34m\u001b[0m\u001b[0m\n\u001b[1;32m    474\u001b[0m             \u001b[0;32mfor\u001b[0m \u001b[0mt\u001b[0m \u001b[0;32min\u001b[0m \u001b[0mnp\u001b[0m\u001b[0;34m.\u001b[0m\u001b[0marange\u001b[0m\u001b[0;34m(\u001b[0m\u001b[0;36m0\u001b[0m\u001b[0;34m,\u001b[0m \u001b[0mself\u001b[0m\u001b[0;34m.\u001b[0m\u001b[0mduration\u001b[0m\u001b[0;34m,\u001b[0m \u001b[0;36m1.0\u001b[0m\u001b[0;34m/\u001b[0m\u001b[0mfps\u001b[0m\u001b[0;34m)\u001b[0m\u001b[0;34m:\u001b[0m\u001b[0;34m\u001b[0m\u001b[0m\n\u001b[0;32m--> 475\u001b[0;31m                 \u001b[0mframe\u001b[0m \u001b[0;34m=\u001b[0m \u001b[0mself\u001b[0m\u001b[0;34m.\u001b[0m\u001b[0mget_frame\u001b[0m\u001b[0;34m(\u001b[0m\u001b[0mt\u001b[0m\u001b[0;34m)\u001b[0m\u001b[0;34m\u001b[0m\u001b[0m\n\u001b[0m\u001b[1;32m    476\u001b[0m                 \u001b[0;32mif\u001b[0m \u001b[0;34m(\u001b[0m\u001b[0mdtype\u001b[0m \u001b[0;32mis\u001b[0m \u001b[0;32mnot\u001b[0m \u001b[0;32mNone\u001b[0m\u001b[0;34m)\u001b[0m \u001b[0;32mand\u001b[0m \u001b[0;34m(\u001b[0m\u001b[0mframe\u001b[0m\u001b[0;34m.\u001b[0m\u001b[0mdtype\u001b[0m \u001b[0;34m!=\u001b[0m \u001b[0mdtype\u001b[0m\u001b[0;34m)\u001b[0m\u001b[0;34m:\u001b[0m\u001b[0;34m\u001b[0m\u001b[0m\n\u001b[1;32m    477\u001b[0m                     \u001b[0mframe\u001b[0m \u001b[0;34m=\u001b[0m \u001b[0mframe\u001b[0m\u001b[0;34m.\u001b[0m\u001b[0mastype\u001b[0m\u001b[0;34m(\u001b[0m\u001b[0mdtype\u001b[0m\u001b[0;34m)\u001b[0m\u001b[0;34m\u001b[0m\u001b[0m\n",
      "\u001b[0;32m<decorator-gen-138>\u001b[0m in \u001b[0;36mget_frame\u001b[0;34m(self, t)\u001b[0m\n",
      "\u001b[0;32m/opt/conda/lib/python3.6/site-packages/moviepy/decorators.py\u001b[0m in \u001b[0;36mwrapper\u001b[0;34m(f, *a, **kw)\u001b[0m\n\u001b[1;32m     87\u001b[0m         new_kw = {k: fun(v) if k in varnames else v\n\u001b[1;32m     88\u001b[0m                  for (k,v) in kw.items()}\n\u001b[0;32m---> 89\u001b[0;31m         \u001b[0;32mreturn\u001b[0m \u001b[0mf\u001b[0m\u001b[0;34m(\u001b[0m\u001b[0;34m*\u001b[0m\u001b[0mnew_a\u001b[0m\u001b[0;34m,\u001b[0m \u001b[0;34m**\u001b[0m\u001b[0mnew_kw\u001b[0m\u001b[0;34m)\u001b[0m\u001b[0;34m\u001b[0m\u001b[0m\n\u001b[0m\u001b[1;32m     90\u001b[0m     \u001b[0;32mreturn\u001b[0m \u001b[0mdecorator\u001b[0m\u001b[0;34m.\u001b[0m\u001b[0mdecorator\u001b[0m\u001b[0;34m(\u001b[0m\u001b[0mwrapper\u001b[0m\u001b[0;34m)\u001b[0m\u001b[0;34m\u001b[0m\u001b[0m\n\u001b[1;32m     91\u001b[0m \u001b[0;34m\u001b[0m\u001b[0m\n",
      "\u001b[0;32m/opt/conda/lib/python3.6/site-packages/moviepy/Clip.py\u001b[0m in \u001b[0;36mget_frame\u001b[0;34m(self, t)\u001b[0m\n\u001b[1;32m     93\u001b[0m                 \u001b[0;32mreturn\u001b[0m \u001b[0mframe\u001b[0m\u001b[0;34m\u001b[0m\u001b[0m\n\u001b[1;32m     94\u001b[0m         \u001b[0;32melse\u001b[0m\u001b[0;34m:\u001b[0m\u001b[0;34m\u001b[0m\u001b[0m\n\u001b[0;32m---> 95\u001b[0;31m             \u001b[0;32mreturn\u001b[0m \u001b[0mself\u001b[0m\u001b[0;34m.\u001b[0m\u001b[0mmake_frame\u001b[0m\u001b[0;34m(\u001b[0m\u001b[0mt\u001b[0m\u001b[0;34m)\u001b[0m\u001b[0;34m\u001b[0m\u001b[0m\n\u001b[0m\u001b[1;32m     96\u001b[0m \u001b[0;34m\u001b[0m\u001b[0m\n\u001b[1;32m     97\u001b[0m     \u001b[0;32mdef\u001b[0m \u001b[0mfl\u001b[0m\u001b[0;34m(\u001b[0m\u001b[0mself\u001b[0m\u001b[0;34m,\u001b[0m \u001b[0mfun\u001b[0m\u001b[0;34m,\u001b[0m \u001b[0mapply_to\u001b[0m\u001b[0;34m=\u001b[0m\u001b[0;34m[\u001b[0m\u001b[0;34m]\u001b[0m\u001b[0;34m,\u001b[0m \u001b[0mkeep_duration\u001b[0m\u001b[0;34m=\u001b[0m\u001b[0;32mTrue\u001b[0m\u001b[0;34m)\u001b[0m\u001b[0;34m:\u001b[0m\u001b[0;34m\u001b[0m\u001b[0m\n",
      "\u001b[0;32m/opt/conda/lib/python3.6/site-packages/moviepy/Clip.py\u001b[0m in \u001b[0;36m<lambda>\u001b[0;34m(t)\u001b[0m\n\u001b[1;32m    134\u001b[0m \u001b[0;34m\u001b[0m\u001b[0m\n\u001b[1;32m    135\u001b[0m         \u001b[0;31m#mf = copy(self.make_frame)\u001b[0m\u001b[0;34m\u001b[0m\u001b[0;34m\u001b[0m\u001b[0m\n\u001b[0;32m--> 136\u001b[0;31m         \u001b[0mnewclip\u001b[0m \u001b[0;34m=\u001b[0m \u001b[0mself\u001b[0m\u001b[0;34m.\u001b[0m\u001b[0mset_make_frame\u001b[0m\u001b[0;34m(\u001b[0m\u001b[0;32mlambda\u001b[0m \u001b[0mt\u001b[0m\u001b[0;34m:\u001b[0m \u001b[0mfun\u001b[0m\u001b[0;34m(\u001b[0m\u001b[0mself\u001b[0m\u001b[0;34m.\u001b[0m\u001b[0mget_frame\u001b[0m\u001b[0;34m,\u001b[0m \u001b[0mt\u001b[0m\u001b[0;34m)\u001b[0m\u001b[0;34m)\u001b[0m\u001b[0;34m\u001b[0m\u001b[0m\n\u001b[0m\u001b[1;32m    137\u001b[0m \u001b[0;34m\u001b[0m\u001b[0m\n\u001b[1;32m    138\u001b[0m         \u001b[0;32mif\u001b[0m \u001b[0;32mnot\u001b[0m \u001b[0mkeep_duration\u001b[0m\u001b[0;34m:\u001b[0m\u001b[0;34m\u001b[0m\u001b[0m\n",
      "\u001b[0;32m/opt/conda/lib/python3.6/site-packages/moviepy/video/VideoClip.py\u001b[0m in \u001b[0;36m<lambda>\u001b[0;34m(gf, t)\u001b[0m\n\u001b[1;32m    531\u001b[0m         \u001b[0;31m`\u001b[0m\u001b[0mget_frame\u001b[0m\u001b[0;34m(\u001b[0m\u001b[0mt\u001b[0m\u001b[0;34m)\u001b[0m\u001b[0;31m`\u001b[0m \u001b[0mby\u001b[0m \u001b[0manother\u001b[0m \u001b[0mframe\u001b[0m\u001b[0;34m,\u001b[0m\u001b[0;31m \u001b[0m\u001b[0;31m \u001b[0m\u001b[0;31m`\u001b[0m\u001b[0mimage_func\u001b[0m\u001b[0;34m(\u001b[0m\u001b[0mget_frame\u001b[0m\u001b[0;34m(\u001b[0m\u001b[0mt\u001b[0m\u001b[0;34m)\u001b[0m\u001b[0;34m)\u001b[0m\u001b[0;31m`\u001b[0m\u001b[0;34m\u001b[0m\u001b[0m\n\u001b[1;32m    532\u001b[0m         \"\"\"\n\u001b[0;32m--> 533\u001b[0;31m         \u001b[0;32mreturn\u001b[0m \u001b[0mself\u001b[0m\u001b[0;34m.\u001b[0m\u001b[0mfl\u001b[0m\u001b[0;34m(\u001b[0m\u001b[0;32mlambda\u001b[0m \u001b[0mgf\u001b[0m\u001b[0;34m,\u001b[0m \u001b[0mt\u001b[0m\u001b[0;34m:\u001b[0m \u001b[0mimage_func\u001b[0m\u001b[0;34m(\u001b[0m\u001b[0mgf\u001b[0m\u001b[0;34m(\u001b[0m\u001b[0mt\u001b[0m\u001b[0;34m)\u001b[0m\u001b[0;34m)\u001b[0m\u001b[0;34m,\u001b[0m \u001b[0mapply_to\u001b[0m\u001b[0;34m)\u001b[0m\u001b[0;34m\u001b[0m\u001b[0m\n\u001b[0m\u001b[1;32m    534\u001b[0m \u001b[0;34m\u001b[0m\u001b[0m\n\u001b[1;32m    535\u001b[0m     \u001b[0;31m# --------------------------------------------------------------\u001b[0m\u001b[0;34m\u001b[0m\u001b[0;34m\u001b[0m\u001b[0m\n",
      "\u001b[0;32m<ipython-input-45-10325c0cef87>\u001b[0m in \u001b[0;36m__call__\u001b[0;34m(self, img)\u001b[0m\n\u001b[1;32m     13\u001b[0m \u001b[0;34m\u001b[0m\u001b[0m\n\u001b[1;32m     14\u001b[0m         \u001b[0;31m# Step 2: Applying Thresholds\u001b[0m\u001b[0;34m\u001b[0m\u001b[0;34m\u001b[0m\u001b[0m\n\u001b[0;32m---> 15\u001b[0;31m         \u001b[0mprocessed_image\u001b[0m \u001b[0;34m=\u001b[0m \u001b[0mget_thresholded_image\u001b[0m\u001b[0;34m(\u001b[0m\u001b[0mprocessed_image\u001b[0m\u001b[0;34m)\u001b[0m\u001b[0;34m\u001b[0m\u001b[0m\n\u001b[0m\u001b[1;32m     16\u001b[0m \u001b[0;34m\u001b[0m\u001b[0m\n\u001b[1;32m     17\u001b[0m         \u001b[0;31m# Step 3: Changing Perspective\u001b[0m\u001b[0;34m\u001b[0m\u001b[0;34m\u001b[0m\u001b[0m\n",
      "\u001b[0;32m<ipython-input-8-7a68a5527c89>\u001b[0m in \u001b[0;36mget_thresholded_image\u001b[0;34m(img)\u001b[0m\n\u001b[1;32m      1\u001b[0m \u001b[0;32mdef\u001b[0m \u001b[0mget_thresholded_image\u001b[0m\u001b[0;34m(\u001b[0m\u001b[0mimg\u001b[0m\u001b[0;34m)\u001b[0m\u001b[0;34m:\u001b[0m\u001b[0;34m\u001b[0m\u001b[0m\n\u001b[1;32m      2\u001b[0m \u001b[0;34m\u001b[0m\u001b[0m\n\u001b[0;32m----> 3\u001b[0;31m     \u001b[0mgradient_masks\u001b[0m \u001b[0;34m=\u001b[0m \u001b[0mapply_gradient_pipeline\u001b[0m\u001b[0;34m(\u001b[0m\u001b[0mimg\u001b[0m\u001b[0;34m)\u001b[0m\u001b[0;34m\u001b[0m\u001b[0m\n\u001b[0m\u001b[1;32m      4\u001b[0m     \u001b[0mcolor_masks\u001b[0m \u001b[0;34m=\u001b[0m \u001b[0mapply_color_pipeline\u001b[0m\u001b[0;34m(\u001b[0m\u001b[0mimg\u001b[0m\u001b[0;34m)\u001b[0m\u001b[0;34m\u001b[0m\u001b[0m\n\u001b[1;32m      5\u001b[0m \u001b[0;34m\u001b[0m\u001b[0m\n",
      "\u001b[0;32m<ipython-input-6-6eeedc421531>\u001b[0m in \u001b[0;36mapply_gradient_pipeline\u001b[0;34m(img)\u001b[0m\n\u001b[1;32m     10\u001b[0m     \u001b[0mgradient_x_mask\u001b[0m \u001b[0;34m=\u001b[0m \u001b[0mapply_gradient_thresholds\u001b[0m\u001b[0;34m(\u001b[0m\u001b[0msobel_x\u001b[0m\u001b[0;34m,\u001b[0m \u001b[0mthreshold\u001b[0m \u001b[0;34m=\u001b[0m \u001b[0;34m(\u001b[0m\u001b[0;36m20\u001b[0m\u001b[0;34m,\u001b[0m\u001b[0;36m220\u001b[0m\u001b[0;34m)\u001b[0m\u001b[0;34m)\u001b[0m\u001b[0;34m\u001b[0m\u001b[0m\n\u001b[1;32m     11\u001b[0m     \u001b[0mdirection_mask\u001b[0m \u001b[0;34m=\u001b[0m \u001b[0mapply_direction_thresholds\u001b[0m\u001b[0;34m(\u001b[0m\u001b[0msobel_x\u001b[0m\u001b[0;34m,\u001b[0m \u001b[0msobel_y\u001b[0m\u001b[0;34m,\u001b[0m \u001b[0mthreshold\u001b[0m \u001b[0;34m=\u001b[0m \u001b[0;34m(\u001b[0m\u001b[0;36m40\u001b[0m\u001b[0;34m*\u001b[0m\u001b[0mnp\u001b[0m\u001b[0;34m.\u001b[0m\u001b[0mpi\u001b[0m\u001b[0;34m/\u001b[0m\u001b[0;36m180\u001b[0m\u001b[0;34m,\u001b[0m \u001b[0;36m70\u001b[0m\u001b[0;34m*\u001b[0m\u001b[0mnp\u001b[0m\u001b[0;34m.\u001b[0m\u001b[0mpi\u001b[0m\u001b[0;34m/\u001b[0m\u001b[0;36m180\u001b[0m\u001b[0;34m)\u001b[0m\u001b[0;34m)\u001b[0m\u001b[0;34m\u001b[0m\u001b[0m\n\u001b[0;32m---> 12\u001b[0;31m     \u001b[0mmagnitude_mask\u001b[0m \u001b[0;34m=\u001b[0m \u001b[0mapply_magnitude_thresholds\u001b[0m\u001b[0;34m(\u001b[0m\u001b[0msobel_x\u001b[0m\u001b[0;34m,\u001b[0m \u001b[0msobel_y\u001b[0m\u001b[0;34m,\u001b[0m \u001b[0mthreshold\u001b[0m \u001b[0;34m=\u001b[0m \u001b[0;34m(\u001b[0m\u001b[0;36m50\u001b[0m\u001b[0;34m,\u001b[0m \u001b[0;36m200\u001b[0m\u001b[0;34m)\u001b[0m\u001b[0;34m)\u001b[0m\u001b[0;34m\u001b[0m\u001b[0m\n\u001b[0m\u001b[1;32m     13\u001b[0m \u001b[0;34m\u001b[0m\u001b[0m\n\u001b[1;32m     14\u001b[0m     \u001b[0mcombined\u001b[0m \u001b[0;34m=\u001b[0m \u001b[0mnp\u001b[0m\u001b[0;34m.\u001b[0m\u001b[0mzeros_like\u001b[0m\u001b[0;34m(\u001b[0m\u001b[0mdirection_mask\u001b[0m\u001b[0;34m)\u001b[0m\u001b[0;34m\u001b[0m\u001b[0m\n",
      "\u001b[0;32m<ipython-input-5-350b859f4c29>\u001b[0m in \u001b[0;36mapply_magnitude_thresholds\u001b[0;34m(gradient_x, gradient_y, threshold)\u001b[0m\n\u001b[1;32m     15\u001b[0m \u001b[0;34m\u001b[0m\u001b[0m\n\u001b[1;32m     16\u001b[0m     \u001b[0;31m# Apply thresholds in a binary matrix\u001b[0m\u001b[0;34m\u001b[0m\u001b[0;34m\u001b[0m\u001b[0m\n\u001b[0;32m---> 17\u001b[0;31m     \u001b[0;32mreturn\u001b[0m \u001b[0mapply_thresholds\u001b[0m\u001b[0;34m(\u001b[0m\u001b[0mmagnitude\u001b[0m\u001b[0;34m,\u001b[0m \u001b[0mthreshold\u001b[0m\u001b[0;34m,\u001b[0m \u001b[0mscale\u001b[0m \u001b[0;34m=\u001b[0m \u001b[0;32mTrue\u001b[0m\u001b[0;34m)\u001b[0m\u001b[0;34m\u001b[0m\u001b[0m\n\u001b[0m\u001b[1;32m     18\u001b[0m \u001b[0;34m\u001b[0m\u001b[0m\n\u001b[1;32m     19\u001b[0m \u001b[0;31m# Direction\u001b[0m\u001b[0;34m\u001b[0m\u001b[0;34m\u001b[0m\u001b[0m\n",
      "\u001b[0;32m<ipython-input-4-910011f6f7f6>\u001b[0m in \u001b[0;36mapply_thresholds\u001b[0;34m(mtx, threshold, scale)\u001b[0m\n\u001b[1;32m     13\u001b[0m \u001b[0;34m\u001b[0m\u001b[0m\n\u001b[1;32m     14\u001b[0m     \u001b[0;31m# Scale the matrix to 8-bits\u001b[0m\u001b[0;34m\u001b[0m\u001b[0;34m\u001b[0m\u001b[0m\n\u001b[0;32m---> 15\u001b[0;31m     \u001b[0mbase\u001b[0m \u001b[0;34m=\u001b[0m \u001b[0mscale_mtx_to_8bit\u001b[0m\u001b[0;34m(\u001b[0m\u001b[0mmtx\u001b[0m\u001b[0;34m)\u001b[0m \u001b[0;32mif\u001b[0m \u001b[0mscale\u001b[0m \u001b[0;32melse\u001b[0m \u001b[0mmtx\u001b[0m\u001b[0;34m\u001b[0m\u001b[0m\n\u001b[0m\u001b[1;32m     16\u001b[0m \u001b[0;34m\u001b[0m\u001b[0m\n\u001b[1;32m     17\u001b[0m     \u001b[0;31m# Prepare a binary matrix of equal size to the base\u001b[0m\u001b[0;34m\u001b[0m\u001b[0;34m\u001b[0m\u001b[0m\n",
      "\u001b[0;32m<ipython-input-4-910011f6f7f6>\u001b[0m in \u001b[0;36mscale_mtx_to_8bit\u001b[0;34m(mtx)\u001b[0m\n\u001b[1;32m      8\u001b[0m \u001b[0;34m\u001b[0m\u001b[0m\n\u001b[1;32m      9\u001b[0m     \u001b[0mscale_factor\u001b[0m \u001b[0;34m=\u001b[0m \u001b[0mnp\u001b[0m\u001b[0;34m.\u001b[0m\u001b[0mmax\u001b[0m\u001b[0;34m(\u001b[0m\u001b[0mmtx\u001b[0m\u001b[0;34m)\u001b[0m\u001b[0;34m/\u001b[0m\u001b[0;36m255\u001b[0m\u001b[0;34m\u001b[0m\u001b[0m\n\u001b[0;32m---> 10\u001b[0;31m     \u001b[0;32mreturn\u001b[0m \u001b[0;34m(\u001b[0m\u001b[0mmtx\u001b[0m\u001b[0;34m/\u001b[0m\u001b[0mscale_factor\u001b[0m\u001b[0;34m)\u001b[0m\u001b[0;34m.\u001b[0m\u001b[0mastype\u001b[0m\u001b[0;34m(\u001b[0m\u001b[0mnp\u001b[0m\u001b[0;34m.\u001b[0m\u001b[0muint8\u001b[0m\u001b[0;34m)\u001b[0m\u001b[0;34m\u001b[0m\u001b[0m\n\u001b[0m\u001b[1;32m     11\u001b[0m \u001b[0;34m\u001b[0m\u001b[0m\n\u001b[1;32m     12\u001b[0m \u001b[0;32mdef\u001b[0m \u001b[0mapply_thresholds\u001b[0m\u001b[0;34m(\u001b[0m\u001b[0mmtx\u001b[0m\u001b[0;34m,\u001b[0m \u001b[0mthreshold\u001b[0m\u001b[0;34m=\u001b[0m\u001b[0;34m(\u001b[0m\u001b[0;36m0\u001b[0m\u001b[0;34m,\u001b[0m\u001b[0;36m255\u001b[0m\u001b[0;34m)\u001b[0m\u001b[0;34m,\u001b[0m \u001b[0mscale\u001b[0m \u001b[0;34m=\u001b[0m \u001b[0;32mFalse\u001b[0m\u001b[0;34m)\u001b[0m\u001b[0;34m:\u001b[0m\u001b[0;34m\u001b[0m\u001b[0m\n",
      "\u001b[0;31mKeyboardInterrupt\u001b[0m: "
     ]
    }
   ],
   "source": [
    "output = 'output_videos/project_video.mp4'\n",
    "\n",
    "clip1 = VideoFileClip(\"project_video.mp4\")\n",
    "clip = clip1.fl_image(lane_detector) \n",
    "%time clip.write_videofile(output, audio=False)"
   ]
  },
  {
   "cell_type": "code",
   "execution_count": 29,
   "metadata": {},
   "outputs": [
    {
     "data": {
      "text/html": [
       "\n",
       "<video width=\"960\" height=\"540\" controls>\n",
       "  <source src=\"output_videos/project_video.mp4\">\n",
       "</video>\n"
      ],
      "text/plain": [
       "<IPython.core.display.HTML object>"
      ]
     },
     "execution_count": 29,
     "metadata": {},
     "output_type": "execute_result"
    }
   ],
   "source": [
    "HTML(\"\"\"\n",
    "<video width=\"960\" height=\"540\" controls>\n",
    "  <source src=\"{0}\">\n",
    "</video>\n",
    "\"\"\".format(output))"
   ]
  },
  {
   "cell_type": "code",
   "execution_count": 56,
   "metadata": {},
   "outputs": [
    {
     "name": "stdout",
     "output_type": "stream",
     "text": [
      "[MoviePy] >>>> Building video output_videos/challenge_video.mp4\n",
      "[MoviePy] Writing video output_videos/challenge_video.mp4\n"
     ]
    },
    {
     "name": "stderr",
     "output_type": "stream",
     "text": [
      "\n",
      "  0%|          | 0/485 [00:00<?, ?it/s]\u001b[A\n",
      "  0%|          | 1/485 [00:00<01:27,  5.50it/s]\u001b[A\n",
      "  0%|          | 2/485 [00:00<01:31,  5.30it/s]\u001b[A\n",
      "  1%|          | 3/485 [00:00<01:30,  5.32it/s]\u001b[A\n",
      "  1%|          | 4/485 [00:00<01:29,  5.38it/s]\u001b[A\n",
      "  1%|          | 5/485 [00:00<01:28,  5.40it/s]\u001b[A\n",
      "  1%|          | 6/485 [00:01<01:28,  5.41it/s]\u001b[A\n",
      "  1%|▏         | 7/485 [00:01<01:28,  5.42it/s]\u001b[A\n",
      "  2%|▏         | 8/485 [00:01<01:28,  5.39it/s]\u001b[A\n",
      "  2%|▏         | 9/485 [00:01<01:28,  5.40it/s]\u001b[A\n",
      "  2%|▏         | 10/485 [00:01<01:27,  5.41it/s]\u001b[A\n",
      "  2%|▏         | 11/485 [00:02<01:27,  5.42it/s]\u001b[A\n",
      "  2%|▏         | 12/485 [00:02<01:27,  5.43it/s]\u001b[A\n",
      "  3%|▎         | 13/485 [00:02<01:26,  5.43it/s]\u001b[A\n",
      "  3%|▎         | 14/485 [00:02<01:26,  5.43it/s]\u001b[A\n",
      "  3%|▎         | 15/485 [00:02<01:26,  5.41it/s]\u001b[A\n",
      "  3%|▎         | 16/485 [00:02<01:26,  5.44it/s]\u001b[A\n",
      "  4%|▎         | 17/485 [00:03<01:26,  5.44it/s]\u001b[A\n",
      "  4%|▎         | 18/485 [00:03<01:25,  5.44it/s]\u001b[A\n",
      "  4%|▍         | 19/485 [00:03<01:25,  5.44it/s]\u001b[A\n",
      "  4%|▍         | 20/485 [00:03<01:26,  5.40it/s]\u001b[A\n",
      "  4%|▍         | 21/485 [00:03<01:25,  5.42it/s]\u001b[A\n",
      "  5%|▍         | 22/485 [00:04<01:25,  5.41it/s]\u001b[A\n",
      "  5%|▍         | 23/485 [00:04<01:25,  5.42it/s]\u001b[A\n",
      "  5%|▍         | 24/485 [00:04<01:24,  5.43it/s]\u001b[A\n",
      "  5%|▌         | 25/485 [00:04<01:24,  5.46it/s]\u001b[A\n",
      "  5%|▌         | 26/485 [00:04<01:24,  5.45it/s]\u001b[A\n",
      "  6%|▌         | 27/485 [00:04<01:23,  5.48it/s]\u001b[A\n",
      "  6%|▌         | 28/485 [00:05<01:23,  5.47it/s]\u001b[A\n",
      "  6%|▌         | 29/485 [00:05<01:23,  5.46it/s]\u001b[A\n",
      "  6%|▌         | 30/485 [00:05<01:24,  5.41it/s]\u001b[A\n",
      "  6%|▋         | 31/485 [00:05<01:23,  5.42it/s]\u001b[A\n",
      "  7%|▋         | 32/485 [00:05<01:23,  5.43it/s]\u001b[A\n",
      "  7%|▋         | 33/485 [00:06<01:22,  5.46it/s]\u001b[A\n",
      "  7%|▋         | 34/485 [00:06<01:22,  5.45it/s]\u001b[A\n",
      "  7%|▋         | 35/485 [00:06<01:22,  5.48it/s]\u001b[A\n",
      "  7%|▋         | 36/485 [00:06<01:22,  5.47it/s]\u001b[A\n",
      "  8%|▊         | 37/485 [00:06<01:22,  5.42it/s]\u001b[A\n",
      "  8%|▊         | 38/485 [00:07<01:21,  5.46it/s]\u001b[A\n",
      "  8%|▊         | 39/485 [00:07<01:21,  5.45it/s]\u001b[A\n",
      "  8%|▊         | 40/485 [00:07<01:21,  5.48it/s]\u001b[A\n",
      "  8%|▊         | 41/485 [00:07<01:20,  5.51it/s]\u001b[A\n",
      "  9%|▊         | 42/485 [00:07<01:21,  5.45it/s]\u001b[A\n",
      "  9%|▉         | 43/485 [00:08<02:02,  3.60it/s]\u001b[A\n",
      "  9%|▉         | 44/485 [00:08<01:59,  3.69it/s]\u001b[A\n",
      "  9%|▉         | 45/485 [00:08<01:54,  3.86it/s]\u001b[A\n",
      "  9%|▉         | 46/485 [00:08<01:50,  3.96it/s]\u001b[A\n",
      " 10%|▉         | 47/485 [00:09<01:56,  3.77it/s]\u001b[A\n",
      " 10%|▉         | 48/485 [00:09<01:53,  3.86it/s]\u001b[A\n",
      " 10%|█         | 49/485 [00:09<01:50,  3.95it/s]\u001b[A\n",
      " 10%|█         | 50/485 [00:10<01:55,  3.76it/s]\u001b[A\n",
      " 11%|█         | 51/485 [00:10<01:52,  3.85it/s]\u001b[A\n",
      " 11%|█         | 52/485 [00:10<01:49,  3.94it/s]\u001b[A\n",
      " 11%|█         | 53/485 [00:10<01:56,  3.72it/s]\u001b[A\n",
      " 11%|█         | 54/485 [00:11<01:52,  3.83it/s]\u001b[A\n",
      " 11%|█▏        | 55/485 [00:11<01:49,  3.92it/s]\u001b[A\n",
      " 12%|█▏        | 56/485 [00:11<01:55,  3.71it/s]\u001b[A\n",
      " 12%|█▏        | 57/485 [00:11<01:52,  3.80it/s]\u001b[A\n",
      " 12%|█▏        | 58/485 [00:12<01:49,  3.88it/s]\u001b[A\n",
      " 12%|█▏        | 59/485 [00:12<01:55,  3.70it/s]\u001b[A\n",
      " 12%|█▏        | 60/485 [00:12<01:51,  3.80it/s]\u001b[A\n",
      " 13%|█▎        | 61/485 [00:12<01:49,  3.88it/s]\u001b[A\n",
      " 13%|█▎        | 62/485 [00:13<01:54,  3.70it/s]\u001b[A\n",
      " 13%|█▎        | 63/485 [00:13<01:50,  3.81it/s]\u001b[A\n",
      " 13%|█▎        | 64/485 [00:13<01:48,  3.89it/s]\u001b[A\n",
      " 13%|█▎        | 65/485 [00:13<01:53,  3.71it/s]\u001b[A\n",
      " 14%|█▎        | 66/485 [00:14<01:50,  3.80it/s]\u001b[A\n",
      " 14%|█▍        | 67/485 [00:14<01:48,  3.87it/s]\u001b[A\n",
      " 14%|█▍        | 68/485 [00:14<01:53,  3.69it/s]\u001b[A\n",
      " 14%|█▍        | 69/485 [00:15<01:49,  3.80it/s]\u001b[A\n",
      " 14%|█▍        | 70/485 [00:15<01:47,  3.87it/s]\u001b[A\n",
      " 15%|█▍        | 71/485 [00:15<01:49,  3.77it/s]\u001b[A\n",
      " 15%|█▍        | 72/485 [00:15<01:46,  3.88it/s]\u001b[A\n",
      " 15%|█▌        | 73/485 [00:16<01:51,  3.70it/s]\u001b[A\n",
      " 15%|█▌        | 74/485 [00:16<01:47,  3.81it/s]\u001b[A\n",
      " 15%|█▌        | 75/485 [00:16<01:45,  3.88it/s]\u001b[A\n",
      " 16%|█▌        | 76/485 [00:16<01:50,  3.70it/s]\u001b[A\n",
      " 16%|█▌        | 77/485 [00:17<01:48,  3.76it/s]\u001b[A\n",
      " 16%|█▌        | 78/485 [00:17<01:45,  3.85it/s]\u001b[A\n",
      " 16%|█▋        | 79/485 [00:17<01:48,  3.73it/s]\u001b[A\n",
      " 16%|█▋        | 80/485 [00:17<01:44,  3.87it/s]\u001b[A\n",
      " 17%|█▋        | 81/485 [00:18<01:48,  3.74it/s]\u001b[A\n",
      " 17%|█▋        | 82/485 [00:18<01:43,  3.88it/s]\u001b[A\n",
      " 17%|█▋        | 83/485 [00:18<01:47,  3.73it/s]\u001b[A\n",
      " 17%|█▋        | 84/485 [00:18<01:45,  3.81it/s]\u001b[A\n",
      " 18%|█▊        | 85/485 [00:19<01:43,  3.88it/s]\u001b[A\n",
      " 18%|█▊        | 86/485 [00:19<01:48,  3.68it/s]\u001b[A\n",
      " 18%|█▊        | 87/485 [00:19<01:45,  3.76it/s]\u001b[A\n",
      " 18%|█▊        | 88/485 [00:20<01:42,  3.86it/s]\u001b[A\n",
      " 18%|█▊        | 89/485 [00:20<01:47,  3.70it/s]\u001b[A\n",
      " 19%|█▊        | 90/485 [00:20<01:44,  3.78it/s]\u001b[A\n",
      " 19%|█▉        | 91/485 [00:20<01:42,  3.85it/s]\u001b[A\n",
      " 19%|█▉        | 92/485 [00:21<01:44,  3.76it/s]\u001b[A\n",
      " 19%|█▉        | 93/485 [00:21<01:45,  3.70it/s]\u001b[A\n",
      " 19%|█▉        | 94/485 [00:21<01:41,  3.87it/s]\u001b[A\n",
      " 20%|█▉        | 95/485 [00:21<01:45,  3.71it/s]\u001b[A\n",
      " 20%|█▉        | 96/485 [00:22<01:41,  3.82it/s]\u001b[A\n",
      " 20%|██        | 97/485 [00:22<01:39,  3.90it/s]\u001b[A\n",
      " 20%|██        | 98/485 [00:22<01:44,  3.69it/s]\u001b[A\n",
      " 20%|██        | 99/485 [00:23<01:49,  3.52it/s]\u001b[A\n",
      " 21%|██        | 100/485 [00:23<01:44,  3.67it/s]\u001b[A\n",
      " 21%|██        | 101/485 [00:23<01:46,  3.61it/s]\u001b[A\n",
      " 21%|██        | 102/485 [00:23<01:42,  3.73it/s]\u001b[A\n",
      " 21%|██        | 103/485 [00:24<01:46,  3.60it/s]\u001b[A\n",
      " 21%|██▏       | 104/485 [00:24<01:41,  3.75it/s]\u001b[A\n",
      " 22%|██▏       | 105/485 [00:24<01:41,  3.73it/s]\u001b[A\n",
      " 22%|██▏       | 106/485 [00:24<01:42,  3.71it/s]\u001b[A\n",
      " 22%|██▏       | 107/485 [00:25<01:43,  3.65it/s]\u001b[A\n",
      " 22%|██▏       | 108/485 [00:25<01:38,  3.81it/s]\u001b[A\n",
      " 22%|██▏       | 109/485 [00:25<01:41,  3.72it/s]\u001b[A\n",
      " 23%|██▎       | 110/485 [00:25<01:38,  3.81it/s]\u001b[A\n",
      " 23%|██▎       | 111/485 [00:26<01:41,  3.70it/s]\u001b[A\n",
      " 23%|██▎       | 112/485 [00:26<01:37,  3.83it/s]\u001b[A\n",
      " 23%|██▎       | 113/485 [00:26<01:37,  3.80it/s]\u001b[A\n",
      " 24%|██▎       | 114/485 [00:26<01:38,  3.78it/s]\u001b[A\n",
      " 24%|██▎       | 115/485 [00:27<01:37,  3.80it/s]\u001b[A\n",
      " 24%|██▍       | 116/485 [00:27<01:37,  3.78it/s]\u001b[A\n",
      " 24%|██▍       | 117/485 [00:27<01:38,  3.73it/s]\u001b[A\n",
      " 24%|██▍       | 118/485 [00:28<01:33,  3.91it/s]\u001b[A\n",
      " 25%|██▍       | 119/485 [00:28<01:34,  3.87it/s]\u001b[A\n",
      " 25%|██▍       | 120/485 [00:28<01:34,  3.88it/s]\u001b[A\n",
      " 25%|██▍       | 121/485 [00:28<01:34,  3.83it/s]\u001b[A\n",
      " 25%|██▌       | 122/485 [00:29<01:33,  3.87it/s]\u001b[A\n",
      " 25%|██▌       | 123/485 [00:29<01:33,  3.88it/s]\u001b[A\n",
      " 26%|██▌       | 124/485 [00:29<01:34,  3.82it/s]\u001b[A\n",
      " 26%|██▌       | 125/485 [00:29<01:31,  3.94it/s]\u001b[A\n",
      " 26%|██▌       | 126/485 [00:30<01:34,  3.80it/s]\u001b[A\n",
      " 26%|██▌       | 127/485 [00:30<01:30,  3.94it/s]\u001b[A\n",
      " 26%|██▋       | 128/485 [00:30<01:32,  3.84it/s]\u001b[A\n",
      " 27%|██▋       | 129/485 [00:30<01:29,  3.97it/s]\u001b[A\n",
      " 27%|██▋       | 130/485 [00:31<01:31,  3.86it/s]\u001b[A\n",
      " 27%|██▋       | 131/485 [00:31<01:28,  4.00it/s]\u001b[A\n",
      " 27%|██▋       | 132/485 [00:31<01:29,  3.95it/s]\u001b[A\n",
      " 27%|██▋       | 133/485 [00:31<01:32,  3.80it/s]\u001b[A\n",
      " 28%|██▊       | 134/485 [00:32<01:29,  3.90it/s]\u001b[A\n",
      " 28%|██▊       | 135/485 [00:32<01:36,  3.63it/s]\u001b[A\n",
      " 28%|██▊       | 136/485 [00:32<01:34,  3.68it/s]\u001b[A\n"
     ]
    },
    {
     "ename": "TypeError",
     "evalue": "expected non-empty vector for x",
     "output_type": "error",
     "traceback": [
      "\u001b[0;31m---------------------------------------------------------------------------\u001b[0m",
      "\u001b[0;31mTypeError\u001b[0m                                 Traceback (most recent call last)",
      "\u001b[0;32m<timed eval>\u001b[0m in \u001b[0;36m<module>\u001b[0;34m()\u001b[0m\n",
      "\u001b[0;32m<decorator-gen-175>\u001b[0m in \u001b[0;36mwrite_videofile\u001b[0;34m(self, filename, fps, codec, bitrate, audio, audio_fps, preset, audio_nbytes, audio_codec, audio_bitrate, audio_bufsize, temp_audiofile, rewrite_audio, remove_temp, write_logfile, verbose, threads, ffmpeg_params, progress_bar)\u001b[0m\n",
      "\u001b[0;32m/opt/conda/lib/python3.6/site-packages/moviepy/decorators.py\u001b[0m in \u001b[0;36mrequires_duration\u001b[0;34m(f, clip, *a, **k)\u001b[0m\n\u001b[1;32m     52\u001b[0m         \u001b[0;32mraise\u001b[0m \u001b[0mValueError\u001b[0m\u001b[0;34m(\u001b[0m\u001b[0;34m\"Attribute 'duration' not set\"\u001b[0m\u001b[0;34m)\u001b[0m\u001b[0;34m\u001b[0m\u001b[0m\n\u001b[1;32m     53\u001b[0m     \u001b[0;32melse\u001b[0m\u001b[0;34m:\u001b[0m\u001b[0;34m\u001b[0m\u001b[0m\n\u001b[0;32m---> 54\u001b[0;31m         \u001b[0;32mreturn\u001b[0m \u001b[0mf\u001b[0m\u001b[0;34m(\u001b[0m\u001b[0mclip\u001b[0m\u001b[0;34m,\u001b[0m \u001b[0;34m*\u001b[0m\u001b[0ma\u001b[0m\u001b[0;34m,\u001b[0m \u001b[0;34m**\u001b[0m\u001b[0mk\u001b[0m\u001b[0;34m)\u001b[0m\u001b[0;34m\u001b[0m\u001b[0m\n\u001b[0m\u001b[1;32m     55\u001b[0m \u001b[0;34m\u001b[0m\u001b[0m\n\u001b[1;32m     56\u001b[0m \u001b[0;34m\u001b[0m\u001b[0m\n",
      "\u001b[0;32m<decorator-gen-174>\u001b[0m in \u001b[0;36mwrite_videofile\u001b[0;34m(self, filename, fps, codec, bitrate, audio, audio_fps, preset, audio_nbytes, audio_codec, audio_bitrate, audio_bufsize, temp_audiofile, rewrite_audio, remove_temp, write_logfile, verbose, threads, ffmpeg_params, progress_bar)\u001b[0m\n",
      "\u001b[0;32m/opt/conda/lib/python3.6/site-packages/moviepy/decorators.py\u001b[0m in \u001b[0;36muse_clip_fps_by_default\u001b[0;34m(f, clip, *a, **k)\u001b[0m\n\u001b[1;32m    135\u001b[0m              for (k,v) in k.items()}\n\u001b[1;32m    136\u001b[0m \u001b[0;34m\u001b[0m\u001b[0m\n\u001b[0;32m--> 137\u001b[0;31m     \u001b[0;32mreturn\u001b[0m \u001b[0mf\u001b[0m\u001b[0;34m(\u001b[0m\u001b[0mclip\u001b[0m\u001b[0;34m,\u001b[0m \u001b[0;34m*\u001b[0m\u001b[0mnew_a\u001b[0m\u001b[0;34m,\u001b[0m \u001b[0;34m**\u001b[0m\u001b[0mnew_kw\u001b[0m\u001b[0;34m)\u001b[0m\u001b[0;34m\u001b[0m\u001b[0m\n\u001b[0m",
      "\u001b[0;32m<decorator-gen-173>\u001b[0m in \u001b[0;36mwrite_videofile\u001b[0;34m(self, filename, fps, codec, bitrate, audio, audio_fps, preset, audio_nbytes, audio_codec, audio_bitrate, audio_bufsize, temp_audiofile, rewrite_audio, remove_temp, write_logfile, verbose, threads, ffmpeg_params, progress_bar)\u001b[0m\n",
      "\u001b[0;32m/opt/conda/lib/python3.6/site-packages/moviepy/decorators.py\u001b[0m in \u001b[0;36mconvert_masks_to_RGB\u001b[0;34m(f, clip, *a, **k)\u001b[0m\n\u001b[1;32m     20\u001b[0m     \u001b[0;32mif\u001b[0m \u001b[0mclip\u001b[0m\u001b[0;34m.\u001b[0m\u001b[0mismask\u001b[0m\u001b[0;34m:\u001b[0m\u001b[0;34m\u001b[0m\u001b[0m\n\u001b[1;32m     21\u001b[0m         \u001b[0mclip\u001b[0m \u001b[0;34m=\u001b[0m \u001b[0mclip\u001b[0m\u001b[0;34m.\u001b[0m\u001b[0mto_RGB\u001b[0m\u001b[0;34m(\u001b[0m\u001b[0;34m)\u001b[0m\u001b[0;34m\u001b[0m\u001b[0m\n\u001b[0;32m---> 22\u001b[0;31m     \u001b[0;32mreturn\u001b[0m \u001b[0mf\u001b[0m\u001b[0;34m(\u001b[0m\u001b[0mclip\u001b[0m\u001b[0;34m,\u001b[0m \u001b[0;34m*\u001b[0m\u001b[0ma\u001b[0m\u001b[0;34m,\u001b[0m \u001b[0;34m**\u001b[0m\u001b[0mk\u001b[0m\u001b[0;34m)\u001b[0m\u001b[0;34m\u001b[0m\u001b[0m\n\u001b[0m\u001b[1;32m     23\u001b[0m \u001b[0;34m\u001b[0m\u001b[0m\n\u001b[1;32m     24\u001b[0m \u001b[0;34m@\u001b[0m\u001b[0mdecorator\u001b[0m\u001b[0;34m.\u001b[0m\u001b[0mdecorator\u001b[0m\u001b[0;34m\u001b[0m\u001b[0m\n",
      "\u001b[0;32m/opt/conda/lib/python3.6/site-packages/moviepy/video/VideoClip.py\u001b[0m in \u001b[0;36mwrite_videofile\u001b[0;34m(self, filename, fps, codec, bitrate, audio, audio_fps, preset, audio_nbytes, audio_codec, audio_bitrate, audio_bufsize, temp_audiofile, rewrite_audio, remove_temp, write_logfile, verbose, threads, ffmpeg_params, progress_bar)\u001b[0m\n\u001b[1;32m    347\u001b[0m                            \u001b[0mverbose\u001b[0m\u001b[0;34m=\u001b[0m\u001b[0mverbose\u001b[0m\u001b[0;34m,\u001b[0m \u001b[0mthreads\u001b[0m\u001b[0;34m=\u001b[0m\u001b[0mthreads\u001b[0m\u001b[0;34m,\u001b[0m\u001b[0;34m\u001b[0m\u001b[0m\n\u001b[1;32m    348\u001b[0m                            \u001b[0mffmpeg_params\u001b[0m\u001b[0;34m=\u001b[0m\u001b[0mffmpeg_params\u001b[0m\u001b[0;34m,\u001b[0m\u001b[0;34m\u001b[0m\u001b[0m\n\u001b[0;32m--> 349\u001b[0;31m                            progress_bar=progress_bar)\n\u001b[0m\u001b[1;32m    350\u001b[0m \u001b[0;34m\u001b[0m\u001b[0m\n\u001b[1;32m    351\u001b[0m         \u001b[0;32mif\u001b[0m \u001b[0mremove_temp\u001b[0m \u001b[0;32mand\u001b[0m \u001b[0mmake_audio\u001b[0m\u001b[0;34m:\u001b[0m\u001b[0;34m\u001b[0m\u001b[0m\n",
      "\u001b[0;32m/opt/conda/lib/python3.6/site-packages/moviepy/video/io/ffmpeg_writer.py\u001b[0m in \u001b[0;36mffmpeg_write_video\u001b[0;34m(clip, filename, fps, codec, bitrate, preset, withmask, write_logfile, audiofile, verbose, threads, ffmpeg_params, progress_bar)\u001b[0m\n\u001b[1;32m    207\u001b[0m \u001b[0;34m\u001b[0m\u001b[0m\n\u001b[1;32m    208\u001b[0m     for t,frame in clip.iter_frames(progress_bar=progress_bar, with_times=True,\n\u001b[0;32m--> 209\u001b[0;31m                                     fps=fps, dtype=\"uint8\"):\n\u001b[0m\u001b[1;32m    210\u001b[0m         \u001b[0;32mif\u001b[0m \u001b[0mwithmask\u001b[0m\u001b[0;34m:\u001b[0m\u001b[0;34m\u001b[0m\u001b[0m\n\u001b[1;32m    211\u001b[0m             \u001b[0mmask\u001b[0m \u001b[0;34m=\u001b[0m \u001b[0;34m(\u001b[0m\u001b[0;36m255\u001b[0m\u001b[0;34m*\u001b[0m\u001b[0mclip\u001b[0m\u001b[0;34m.\u001b[0m\u001b[0mmask\u001b[0m\u001b[0;34m.\u001b[0m\u001b[0mget_frame\u001b[0m\u001b[0;34m(\u001b[0m\u001b[0mt\u001b[0m\u001b[0;34m)\u001b[0m\u001b[0;34m)\u001b[0m\u001b[0;34m\u001b[0m\u001b[0m\n",
      "\u001b[0;32m/opt/conda/lib/python3.6/site-packages/tqdm/_tqdm.py\u001b[0m in \u001b[0;36m__iter__\u001b[0;34m(self)\u001b[0m\n\u001b[1;32m    831\u001b[0m \"\"\", fp_write=getattr(self.fp, 'write', sys.stderr.write))\n\u001b[1;32m    832\u001b[0m \u001b[0;34m\u001b[0m\u001b[0m\n\u001b[0;32m--> 833\u001b[0;31m             \u001b[0;32mfor\u001b[0m \u001b[0mobj\u001b[0m \u001b[0;32min\u001b[0m \u001b[0miterable\u001b[0m\u001b[0;34m:\u001b[0m\u001b[0;34m\u001b[0m\u001b[0m\n\u001b[0m\u001b[1;32m    834\u001b[0m                 \u001b[0;32myield\u001b[0m \u001b[0mobj\u001b[0m\u001b[0;34m\u001b[0m\u001b[0m\n\u001b[1;32m    835\u001b[0m                 \u001b[0;31m# Update and print the progressbar.\u001b[0m\u001b[0;34m\u001b[0m\u001b[0;34m\u001b[0m\u001b[0m\n",
      "\u001b[0;32m/opt/conda/lib/python3.6/site-packages/moviepy/Clip.py\u001b[0m in \u001b[0;36mgenerator\u001b[0;34m()\u001b[0m\n\u001b[1;32m    473\u001b[0m         \u001b[0;32mdef\u001b[0m \u001b[0mgenerator\u001b[0m\u001b[0;34m(\u001b[0m\u001b[0;34m)\u001b[0m\u001b[0;34m:\u001b[0m\u001b[0;34m\u001b[0m\u001b[0m\n\u001b[1;32m    474\u001b[0m             \u001b[0;32mfor\u001b[0m \u001b[0mt\u001b[0m \u001b[0;32min\u001b[0m \u001b[0mnp\u001b[0m\u001b[0;34m.\u001b[0m\u001b[0marange\u001b[0m\u001b[0;34m(\u001b[0m\u001b[0;36m0\u001b[0m\u001b[0;34m,\u001b[0m \u001b[0mself\u001b[0m\u001b[0;34m.\u001b[0m\u001b[0mduration\u001b[0m\u001b[0;34m,\u001b[0m \u001b[0;36m1.0\u001b[0m\u001b[0;34m/\u001b[0m\u001b[0mfps\u001b[0m\u001b[0;34m)\u001b[0m\u001b[0;34m:\u001b[0m\u001b[0;34m\u001b[0m\u001b[0m\n\u001b[0;32m--> 475\u001b[0;31m                 \u001b[0mframe\u001b[0m \u001b[0;34m=\u001b[0m \u001b[0mself\u001b[0m\u001b[0;34m.\u001b[0m\u001b[0mget_frame\u001b[0m\u001b[0;34m(\u001b[0m\u001b[0mt\u001b[0m\u001b[0;34m)\u001b[0m\u001b[0;34m\u001b[0m\u001b[0m\n\u001b[0m\u001b[1;32m    476\u001b[0m                 \u001b[0;32mif\u001b[0m \u001b[0;34m(\u001b[0m\u001b[0mdtype\u001b[0m \u001b[0;32mis\u001b[0m \u001b[0;32mnot\u001b[0m \u001b[0;32mNone\u001b[0m\u001b[0;34m)\u001b[0m \u001b[0;32mand\u001b[0m \u001b[0;34m(\u001b[0m\u001b[0mframe\u001b[0m\u001b[0;34m.\u001b[0m\u001b[0mdtype\u001b[0m \u001b[0;34m!=\u001b[0m \u001b[0mdtype\u001b[0m\u001b[0;34m)\u001b[0m\u001b[0;34m:\u001b[0m\u001b[0;34m\u001b[0m\u001b[0m\n\u001b[1;32m    477\u001b[0m                     \u001b[0mframe\u001b[0m \u001b[0;34m=\u001b[0m \u001b[0mframe\u001b[0m\u001b[0;34m.\u001b[0m\u001b[0mastype\u001b[0m\u001b[0;34m(\u001b[0m\u001b[0mdtype\u001b[0m\u001b[0;34m)\u001b[0m\u001b[0;34m\u001b[0m\u001b[0m\n",
      "\u001b[0;32m<decorator-gen-138>\u001b[0m in \u001b[0;36mget_frame\u001b[0;34m(self, t)\u001b[0m\n",
      "\u001b[0;32m/opt/conda/lib/python3.6/site-packages/moviepy/decorators.py\u001b[0m in \u001b[0;36mwrapper\u001b[0;34m(f, *a, **kw)\u001b[0m\n\u001b[1;32m     87\u001b[0m         new_kw = {k: fun(v) if k in varnames else v\n\u001b[1;32m     88\u001b[0m                  for (k,v) in kw.items()}\n\u001b[0;32m---> 89\u001b[0;31m         \u001b[0;32mreturn\u001b[0m \u001b[0mf\u001b[0m\u001b[0;34m(\u001b[0m\u001b[0;34m*\u001b[0m\u001b[0mnew_a\u001b[0m\u001b[0;34m,\u001b[0m \u001b[0;34m**\u001b[0m\u001b[0mnew_kw\u001b[0m\u001b[0;34m)\u001b[0m\u001b[0;34m\u001b[0m\u001b[0m\n\u001b[0m\u001b[1;32m     90\u001b[0m     \u001b[0;32mreturn\u001b[0m \u001b[0mdecorator\u001b[0m\u001b[0;34m.\u001b[0m\u001b[0mdecorator\u001b[0m\u001b[0;34m(\u001b[0m\u001b[0mwrapper\u001b[0m\u001b[0;34m)\u001b[0m\u001b[0;34m\u001b[0m\u001b[0m\n\u001b[1;32m     91\u001b[0m \u001b[0;34m\u001b[0m\u001b[0m\n",
      "\u001b[0;32m/opt/conda/lib/python3.6/site-packages/moviepy/Clip.py\u001b[0m in \u001b[0;36mget_frame\u001b[0;34m(self, t)\u001b[0m\n\u001b[1;32m     93\u001b[0m                 \u001b[0;32mreturn\u001b[0m \u001b[0mframe\u001b[0m\u001b[0;34m\u001b[0m\u001b[0m\n\u001b[1;32m     94\u001b[0m         \u001b[0;32melse\u001b[0m\u001b[0;34m:\u001b[0m\u001b[0;34m\u001b[0m\u001b[0m\n\u001b[0;32m---> 95\u001b[0;31m             \u001b[0;32mreturn\u001b[0m \u001b[0mself\u001b[0m\u001b[0;34m.\u001b[0m\u001b[0mmake_frame\u001b[0m\u001b[0;34m(\u001b[0m\u001b[0mt\u001b[0m\u001b[0;34m)\u001b[0m\u001b[0;34m\u001b[0m\u001b[0m\n\u001b[0m\u001b[1;32m     96\u001b[0m \u001b[0;34m\u001b[0m\u001b[0m\n\u001b[1;32m     97\u001b[0m     \u001b[0;32mdef\u001b[0m \u001b[0mfl\u001b[0m\u001b[0;34m(\u001b[0m\u001b[0mself\u001b[0m\u001b[0;34m,\u001b[0m \u001b[0mfun\u001b[0m\u001b[0;34m,\u001b[0m \u001b[0mapply_to\u001b[0m\u001b[0;34m=\u001b[0m\u001b[0;34m[\u001b[0m\u001b[0;34m]\u001b[0m\u001b[0;34m,\u001b[0m \u001b[0mkeep_duration\u001b[0m\u001b[0;34m=\u001b[0m\u001b[0;32mTrue\u001b[0m\u001b[0;34m)\u001b[0m\u001b[0;34m:\u001b[0m\u001b[0;34m\u001b[0m\u001b[0m\n",
      "\u001b[0;32m/opt/conda/lib/python3.6/site-packages/moviepy/Clip.py\u001b[0m in \u001b[0;36m<lambda>\u001b[0;34m(t)\u001b[0m\n\u001b[1;32m    134\u001b[0m \u001b[0;34m\u001b[0m\u001b[0m\n\u001b[1;32m    135\u001b[0m         \u001b[0;31m#mf = copy(self.make_frame)\u001b[0m\u001b[0;34m\u001b[0m\u001b[0;34m\u001b[0m\u001b[0m\n\u001b[0;32m--> 136\u001b[0;31m         \u001b[0mnewclip\u001b[0m \u001b[0;34m=\u001b[0m \u001b[0mself\u001b[0m\u001b[0;34m.\u001b[0m\u001b[0mset_make_frame\u001b[0m\u001b[0;34m(\u001b[0m\u001b[0;32mlambda\u001b[0m \u001b[0mt\u001b[0m\u001b[0;34m:\u001b[0m \u001b[0mfun\u001b[0m\u001b[0;34m(\u001b[0m\u001b[0mself\u001b[0m\u001b[0;34m.\u001b[0m\u001b[0mget_frame\u001b[0m\u001b[0;34m,\u001b[0m \u001b[0mt\u001b[0m\u001b[0;34m)\u001b[0m\u001b[0;34m)\u001b[0m\u001b[0;34m\u001b[0m\u001b[0m\n\u001b[0m\u001b[1;32m    137\u001b[0m \u001b[0;34m\u001b[0m\u001b[0m\n\u001b[1;32m    138\u001b[0m         \u001b[0;32mif\u001b[0m \u001b[0;32mnot\u001b[0m \u001b[0mkeep_duration\u001b[0m\u001b[0;34m:\u001b[0m\u001b[0;34m\u001b[0m\u001b[0m\n",
      "\u001b[0;32m/opt/conda/lib/python3.6/site-packages/moviepy/video/VideoClip.py\u001b[0m in \u001b[0;36m<lambda>\u001b[0;34m(gf, t)\u001b[0m\n\u001b[1;32m    531\u001b[0m         \u001b[0;31m`\u001b[0m\u001b[0mget_frame\u001b[0m\u001b[0;34m(\u001b[0m\u001b[0mt\u001b[0m\u001b[0;34m)\u001b[0m\u001b[0;31m`\u001b[0m \u001b[0mby\u001b[0m \u001b[0manother\u001b[0m \u001b[0mframe\u001b[0m\u001b[0;34m,\u001b[0m\u001b[0;31m \u001b[0m\u001b[0;31m \u001b[0m\u001b[0;31m`\u001b[0m\u001b[0mimage_func\u001b[0m\u001b[0;34m(\u001b[0m\u001b[0mget_frame\u001b[0m\u001b[0;34m(\u001b[0m\u001b[0mt\u001b[0m\u001b[0;34m)\u001b[0m\u001b[0;34m)\u001b[0m\u001b[0;31m`\u001b[0m\u001b[0;34m\u001b[0m\u001b[0m\n\u001b[1;32m    532\u001b[0m         \"\"\"\n\u001b[0;32m--> 533\u001b[0;31m         \u001b[0;32mreturn\u001b[0m \u001b[0mself\u001b[0m\u001b[0;34m.\u001b[0m\u001b[0mfl\u001b[0m\u001b[0;34m(\u001b[0m\u001b[0;32mlambda\u001b[0m \u001b[0mgf\u001b[0m\u001b[0;34m,\u001b[0m \u001b[0mt\u001b[0m\u001b[0;34m:\u001b[0m \u001b[0mimage_func\u001b[0m\u001b[0;34m(\u001b[0m\u001b[0mgf\u001b[0m\u001b[0;34m(\u001b[0m\u001b[0mt\u001b[0m\u001b[0;34m)\u001b[0m\u001b[0;34m)\u001b[0m\u001b[0;34m,\u001b[0m \u001b[0mapply_to\u001b[0m\u001b[0;34m)\u001b[0m\u001b[0;34m\u001b[0m\u001b[0m\n\u001b[0m\u001b[1;32m    534\u001b[0m \u001b[0;34m\u001b[0m\u001b[0m\n\u001b[1;32m    535\u001b[0m     \u001b[0;31m# --------------------------------------------------------------\u001b[0m\u001b[0;34m\u001b[0m\u001b[0;34m\u001b[0m\u001b[0m\n",
      "\u001b[0;32m<ipython-input-54-f70843c1c2dd>\u001b[0m in \u001b[0;36m__call__\u001b[0;34m(self, img)\u001b[0m\n\u001b[1;32m     19\u001b[0m \u001b[0;34m\u001b[0m\u001b[0m\n\u001b[1;32m     20\u001b[0m         \u001b[0;31m# Step 4: Detect Lines\u001b[0m\u001b[0;34m\u001b[0m\u001b[0;34m\u001b[0m\u001b[0m\n\u001b[0;32m---> 21\u001b[0;31m         \u001b[0mself\u001b[0m\u001b[0;34m.\u001b[0m\u001b[0mline_fit\u001b[0m\u001b[0;34m,\u001b[0m \u001b[0mline_points\u001b[0m\u001b[0;34m,\u001b[0m \u001b[0m_\u001b[0m \u001b[0;34m=\u001b[0m \u001b[0mdetect_lane_lines\u001b[0m\u001b[0;34m(\u001b[0m\u001b[0mprocessed_image\u001b[0m\u001b[0;34m,\u001b[0m \u001b[0mSHOW_IMAGES\u001b[0m \u001b[0;34m=\u001b[0m \u001b[0;32mFalse\u001b[0m\u001b[0;34m)\u001b[0m\u001b[0;34m\u001b[0m\u001b[0m\n\u001b[0m\u001b[1;32m     22\u001b[0m \u001b[0;34m\u001b[0m\u001b[0m\n\u001b[1;32m     23\u001b[0m         \u001b[0;31m# Step 5: Highlight Lane\u001b[0m\u001b[0;34m\u001b[0m\u001b[0;34m\u001b[0m\u001b[0m\n",
      "\u001b[0;32m<ipython-input-14-a389e3e42562>\u001b[0m in \u001b[0;36mdetect_lane_lines\u001b[0;34m(img, SHOW_IMAGES)\u001b[0m\n\u001b[1;32m      7\u001b[0m         \u001b[0mout_img\u001b[0m\u001b[0;34m[\u001b[0m\u001b[0mrighty\u001b[0m\u001b[0;34m,\u001b[0m \u001b[0mrightx\u001b[0m\u001b[0;34m]\u001b[0m \u001b[0;34m=\u001b[0m \u001b[0;34m[\u001b[0m\u001b[0;36m0\u001b[0m\u001b[0;34m,\u001b[0m \u001b[0;36m0\u001b[0m\u001b[0;34m,\u001b[0m \u001b[0;36m255\u001b[0m\u001b[0;34m]\u001b[0m\u001b[0;34m\u001b[0m\u001b[0m\n\u001b[1;32m      8\u001b[0m \u001b[0;34m\u001b[0m\u001b[0m\n\u001b[0;32m----> 9\u001b[0;31m     \u001b[0mleft_fit\u001b[0m\u001b[0;34m,\u001b[0m \u001b[0mleft_fitx\u001b[0m \u001b[0;34m,\u001b[0m \u001b[0m_\u001b[0m \u001b[0;34m=\u001b[0m \u001b[0mfit_second_degree_polynomial\u001b[0m\u001b[0;34m(\u001b[0m\u001b[0mleftx\u001b[0m\u001b[0;34m,\u001b[0m \u001b[0mlefty\u001b[0m\u001b[0;34m,\u001b[0m \u001b[0mout_img\u001b[0m\u001b[0;34m.\u001b[0m\u001b[0mshape\u001b[0m\u001b[0;34m,\u001b[0m \u001b[0mSHOW_IMAGES\u001b[0m \u001b[0;34m=\u001b[0m \u001b[0mSHOW_IMAGES\u001b[0m\u001b[0;34m)\u001b[0m\u001b[0;34m\u001b[0m\u001b[0m\n\u001b[0m\u001b[1;32m     10\u001b[0m     \u001b[0mright_fit\u001b[0m\u001b[0;34m,\u001b[0m \u001b[0mright_fitx\u001b[0m\u001b[0;34m,\u001b[0m \u001b[0m_\u001b[0m \u001b[0;34m=\u001b[0m \u001b[0mfit_second_degree_polynomial\u001b[0m\u001b[0;34m(\u001b[0m\u001b[0mrightx\u001b[0m\u001b[0;34m,\u001b[0m \u001b[0mrighty\u001b[0m\u001b[0;34m,\u001b[0m \u001b[0mout_img\u001b[0m\u001b[0;34m.\u001b[0m\u001b[0mshape\u001b[0m\u001b[0;34m,\u001b[0m \u001b[0mSHOW_IMAGES\u001b[0m \u001b[0;34m=\u001b[0m \u001b[0mSHOW_IMAGES\u001b[0m\u001b[0;34m)\u001b[0m\u001b[0;34m\u001b[0m\u001b[0m\n\u001b[1;32m     11\u001b[0m \u001b[0;34m\u001b[0m\u001b[0m\n",
      "\u001b[0;32m<ipython-input-12-96a1189bc0c0>\u001b[0m in \u001b[0;36mfit_second_degree_polynomial\u001b[0;34m(x, y, img_shape, SHOW_IMAGES)\u001b[0m\n\u001b[1;32m      2\u001b[0m \u001b[0;34m\u001b[0m\u001b[0m\n\u001b[1;32m      3\u001b[0m     \u001b[0;31m# Fit a second order polynomial to each using `np.polyfit`\u001b[0m\u001b[0;34m\u001b[0m\u001b[0;34m\u001b[0m\u001b[0m\n\u001b[0;32m----> 4\u001b[0;31m     \u001b[0mfit\u001b[0m \u001b[0;34m=\u001b[0m \u001b[0mnp\u001b[0m\u001b[0;34m.\u001b[0m\u001b[0mpolyfit\u001b[0m\u001b[0;34m(\u001b[0m\u001b[0my\u001b[0m\u001b[0;34m,\u001b[0m \u001b[0mx\u001b[0m\u001b[0;34m,\u001b[0m \u001b[0;36m2\u001b[0m\u001b[0;34m)\u001b[0m\u001b[0;34m\u001b[0m\u001b[0m\n\u001b[0m\u001b[1;32m      5\u001b[0m \u001b[0;34m\u001b[0m\u001b[0m\n\u001b[1;32m      6\u001b[0m     \u001b[0;31m# Generate x and y values for plotting\u001b[0m\u001b[0;34m\u001b[0m\u001b[0;34m\u001b[0m\u001b[0m\n",
      "\u001b[0;32m/opt/conda/lib/python3.6/site-packages/numpy/lib/polynomial.py\u001b[0m in \u001b[0;36mpolyfit\u001b[0;34m(x, y, deg, rcond, full, w, cov)\u001b[0m\n\u001b[1;32m    553\u001b[0m         \u001b[0;32mraise\u001b[0m \u001b[0mTypeError\u001b[0m\u001b[0;34m(\u001b[0m\u001b[0;34m\"expected 1D vector for x\"\u001b[0m\u001b[0;34m)\u001b[0m\u001b[0;34m\u001b[0m\u001b[0m\n\u001b[1;32m    554\u001b[0m     \u001b[0;32mif\u001b[0m \u001b[0mx\u001b[0m\u001b[0;34m.\u001b[0m\u001b[0msize\u001b[0m \u001b[0;34m==\u001b[0m \u001b[0;36m0\u001b[0m\u001b[0;34m:\u001b[0m\u001b[0;34m\u001b[0m\u001b[0m\n\u001b[0;32m--> 555\u001b[0;31m         \u001b[0;32mraise\u001b[0m \u001b[0mTypeError\u001b[0m\u001b[0;34m(\u001b[0m\u001b[0;34m\"expected non-empty vector for x\"\u001b[0m\u001b[0;34m)\u001b[0m\u001b[0;34m\u001b[0m\u001b[0m\n\u001b[0m\u001b[1;32m    556\u001b[0m     \u001b[0;32mif\u001b[0m \u001b[0my\u001b[0m\u001b[0;34m.\u001b[0m\u001b[0mndim\u001b[0m \u001b[0;34m<\u001b[0m \u001b[0;36m1\u001b[0m \u001b[0;32mor\u001b[0m \u001b[0my\u001b[0m\u001b[0;34m.\u001b[0m\u001b[0mndim\u001b[0m \u001b[0;34m>\u001b[0m \u001b[0;36m2\u001b[0m\u001b[0;34m:\u001b[0m\u001b[0;34m\u001b[0m\u001b[0m\n\u001b[1;32m    557\u001b[0m         \u001b[0;32mraise\u001b[0m \u001b[0mTypeError\u001b[0m\u001b[0;34m(\u001b[0m\u001b[0;34m\"expected 1D or 2D array for y\"\u001b[0m\u001b[0;34m)\u001b[0m\u001b[0;34m\u001b[0m\u001b[0m\n",
      "\u001b[0;31mTypeError\u001b[0m: expected non-empty vector for x"
     ]
    }
   ],
   "source": [
    "name = \"challenge_video.mp4\"\n",
    "output = f'output_videos/{name}'\n",
    "\n",
    "clip1 = VideoFileClip(name)\n",
    "clip = clip1.fl_image(lane_detector) \n",
    "%time clip.write_videofile(output, audio=False)"
   ]
  },
  {
   "cell_type": "code",
   "execution_count": 57,
   "metadata": {},
   "outputs": [
    {
     "data": {
      "text/html": [
       "\n",
       "<video width=\"960\" height=\"540\" controls>\n",
       "  <source src=\"output_videos/challenge_video.mp4\">\n",
       "</video>\n"
      ],
      "text/plain": [
       "<IPython.core.display.HTML object>"
      ]
     },
     "execution_count": 57,
     "metadata": {},
     "output_type": "execute_result"
    }
   ],
   "source": [
    "HTML(\"\"\"\n",
    "<video width=\"960\" height=\"540\" controls>\n",
    "  <source src=\"{0}\">\n",
    "</video>\n",
    "\"\"\".format(output))"
   ]
  },
  {
   "cell_type": "code",
   "execution_count": 32,
   "metadata": {},
   "outputs": [
    {
     "name": "stdout",
     "output_type": "stream",
     "text": [
      "[MoviePy] >>>> Building video output_videos/harder_challenge_video.mp4\n",
      "[MoviePy] Writing video output_videos/harder_challenge_video.mp4\n"
     ]
    },
    {
     "name": "stderr",
     "output_type": "stream",
     "text": [
      "100%|█████████▉| 1199/1200 [06:33<00:00,  3.16it/s]\n"
     ]
    },
    {
     "name": "stdout",
     "output_type": "stream",
     "text": [
      "[MoviePy] Done.\n",
      "[MoviePy] >>>> Video ready: output_videos/harder_challenge_video.mp4 \n",
      "\n",
      "CPU times: user 3min 22s, sys: 36.4 s, total: 3min 58s\n",
      "Wall time: 6min 38s\n"
     ]
    }
   ],
   "source": [
    "name = \"harder_challenge_video.mp4\"\n",
    "output = f'output_videos/{name}'\n",
    "\n",
    "clip1 = VideoFileClip(name)\n",
    "clip = clip1.fl_image(lane_detector) \n",
    "%time clip.write_videofile(output, audio=False)"
   ]
  },
  {
   "cell_type": "code",
   "execution_count": 33,
   "metadata": {},
   "outputs": [
    {
     "data": {
      "text/html": [
       "\n",
       "<video width=\"960\" height=\"540\" controls>\n",
       "  <source src=\"output_videos/harder_challenge_video.mp4\">\n",
       "</video>\n"
      ],
      "text/plain": [
       "<IPython.core.display.HTML object>"
      ]
     },
     "execution_count": 33,
     "metadata": {},
     "output_type": "execute_result"
    }
   ],
   "source": [
    "HTML(\"\"\"\n",
    "<video width=\"960\" height=\"540\" controls>\n",
    "  <source src=\"{0}\">\n",
    "</video>\n",
    "\"\"\".format(output))"
   ]
  },
  {
   "cell_type": "code",
   "execution_count": null,
   "metadata": {},
   "outputs": [],
   "source": []
  }
 ],
 "metadata": {
  "anaconda-cloud": {},
  "kernelspec": {
   "display_name": "Python 3",
   "language": "python",
   "name": "python3"
  },
  "language_info": {
   "codemirror_mode": {
    "name": "ipython",
    "version": 3
   },
   "file_extension": ".py",
   "mimetype": "text/x-python",
   "name": "python",
   "nbconvert_exporter": "python",
   "pygments_lexer": "ipython3",
   "version": "3.6.3"
  }
 },
 "nbformat": 4,
 "nbformat_minor": 1
}
