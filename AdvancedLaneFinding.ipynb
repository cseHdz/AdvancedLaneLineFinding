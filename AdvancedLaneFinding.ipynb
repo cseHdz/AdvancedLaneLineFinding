{
 "cells": [
  {
   "cell_type": "markdown",
   "metadata": {},
   "source": [
    "## Advanced Lane Finding Project\n",
    "\n",
    "The goals / steps of this project are the following:\n",
    "\n",
    "1. [Camera Calibration](#calibration)\n",
    "2. [Distortion Correction](#distortion)\n",
    "3. [Tranformations To A Binary Image](#transformations)\n",
    "4. [Perspective Transform](#perspective)\n",
    "5. [Detect Line Boundaries](#boundaries)\n",
    "5. [Lane Curvature & Vehicle Center](#curvature)\n",
    "5. [Unwarp Image](#unwarp)\n",
    "7. [Render Lane Lines](#render)\n",
    "\n",
    "---"
   ]
  },
  {
   "cell_type": "markdown",
   "metadata": {},
   "source": [
    "## Camera Calibration <a name=\"calibration\"></a>\n",
    "\n",
    "Goal: Compute the camera calibration matrix and distortion coefficients given a set of chessboard images."
   ]
  },
  {
   "cell_type": "code",
   "execution_count": 2,
   "metadata": {},
   "outputs": [],
   "source": [
    "import os\n",
    "import numpy as np\n",
    "import cv2\n",
    "import glob\n",
    "import matplotlib.pyplot as plt\n",
    "import matplotlib.image as mpimg\n",
    "\n",
    "%matplotlib inline"
   ]
  },
  {
   "cell_type": "code",
   "execution_count": 3,
   "metadata": {},
   "outputs": [],
   "source": [
    "DEBUG = True\n",
    "SHOW_IMAGES = False\n",
    "\n",
    "if DEBUG:\n",
    "    images = glob.glob('./test_images/*')"
   ]
  },
  {
   "cell_type": "code",
   "execution_count": 4,
   "metadata": {},
   "outputs": [],
   "source": [
    "def calibrate_camera(nx, ny, images, DEBUG = False, SHOW_IMAGES = False):\n",
    "    \n",
    "    \"\"\"\n",
    "    Calibrate camera using a set of calibration images with chessboards.\n",
    "    Returns:\n",
    "        mtx: Camera Matrix\n",
    "        dist: Distortion coefficients\n",
    "    \"\"\"\n",
    "\n",
    "    # 3-D points: (x, y, z)\n",
    "    objp = np.zeros((nx*ny,3), np.float32)\n",
    "    objp[:,:2] = np.mgrid[0:nx,0:ny].T.reshape(-1,2)\n",
    "\n",
    "    # Arrays to store object points and image points from all the images.\n",
    "    objpoints = [] # 3d points in real world space\n",
    "    imgpoints = [] # 2d points in image plane.\n",
    "\n",
    "    # Step through the list and search for chessboard corners\n",
    "    for i in range(0, len(images)):\n",
    "        \n",
    "        # Read Image\n",
    "        img = cv2.imread(images[i])\n",
    "        \n",
    "        # Convert to Gray Scale\n",
    "        gray = cv2.cvtColor(img,cv2.COLOR_BGR2GRAY)\n",
    "\n",
    "        # Find the chessboard corners\n",
    "        ret, corners = cv2.findChessboardCorners(gray, (nx,ny), None)\n",
    "        \n",
    "        if (DEBUG):\n",
    "            print(f\"Image {images[i]} ({i}/{len(images)}) - Corners Found: {ret}\")\n",
    "\n",
    "        # If found, add object points, image points\n",
    "        if ret == True:\n",
    "            objpoints.append(objp)\n",
    "            imgpoints.append(corners)\n",
    "\n",
    "            # Draw and display the corners\n",
    "            cv2.drawChessboardCorners(img, (nx, ny), corners, ret)\n",
    "            plt.imsave(f'./output_images/calibration/calibration_{i}.jpg', img)\n",
    "                   \n",
    "    # Calibrate Camera using object points and image points\n",
    "    # ret, mtx, dist, rvecs, tvecs - Ignoring irrelvant outputs for this project\n",
    "    _, mtx, dist, _, _ = cv2.calibrateCamera(objpoints, imgpoints, \n",
    "                                             gray.shape[::-1],None,None)\n",
    "    \n",
    "    \n",
    "    # Return Camera matrix and distortion coefficients\n",
    "    return mtx, dist"
   ]
  },
  {
   "cell_type": "code",
   "execution_count": 5,
   "metadata": {},
   "outputs": [
    {
     "name": "stdout",
     "output_type": "stream",
     "text": [
      "Image ./camera_cal/calibration3.jpg (0/20) - Corners Found: True\n",
      "Image ./camera_cal/calibration9.jpg (1/20) - Corners Found: True\n",
      "Image ./camera_cal/calibration12.jpg (2/20) - Corners Found: True\n",
      "Image ./camera_cal/calibration20.jpg (3/20) - Corners Found: True\n",
      "Image ./camera_cal/calibration16.jpg (4/20) - Corners Found: True\n",
      "Image ./camera_cal/calibration13.jpg (5/20) - Corners Found: True\n",
      "Image ./camera_cal/calibration14.jpg (6/20) - Corners Found: True\n",
      "Image ./camera_cal/calibration4.jpg (7/20) - Corners Found: False\n",
      "Image ./camera_cal/calibration7.jpg (8/20) - Corners Found: True\n",
      "Image ./camera_cal/calibration2.jpg (9/20) - Corners Found: True\n",
      "Image ./camera_cal/calibration11.jpg (10/20) - Corners Found: True\n",
      "Image ./camera_cal/calibration17.jpg (11/20) - Corners Found: True\n",
      "Image ./camera_cal/calibration1.jpg (12/20) - Corners Found: False\n",
      "Image ./camera_cal/calibration19.jpg (13/20) - Corners Found: True\n",
      "Image ./camera_cal/calibration10.jpg (14/20) - Corners Found: True\n",
      "Image ./camera_cal/calibration5.jpg (15/20) - Corners Found: False\n",
      "Image ./camera_cal/calibration15.jpg (16/20) - Corners Found: True\n",
      "Image ./camera_cal/calibration8.jpg (17/20) - Corners Found: True\n",
      "Image ./camera_cal/calibration6.jpg (18/20) - Corners Found: True\n",
      "Image ./camera_cal/calibration18.jpg (19/20) - Corners Found: True\n"
     ]
    }
   ],
   "source": [
    "if DEBUG:\n",
    "    # Make a list of calibration images\n",
    "\n",
    "    cal_images = glob.glob('./camera_cal/calibration*.jpg')\n",
    "    mtx, dist = calibrate_camera(9, 6, cal_images, DEBUG, SHOW_IMAGES)"
   ]
  },
  {
   "cell_type": "markdown",
   "metadata": {},
   "source": [
    "## Distortion Correction <a name=\"distortion\"></a>\n",
    "\n",
    "Goal: Apply a distortion correction to raw images."
   ]
  },
  {
   "cell_type": "code",
   "execution_count": 6,
   "metadata": {},
   "outputs": [],
   "source": [
    "def undistort_image(img, mtx, dist):\n",
    "    \n",
    "    \"\"\"\n",
    "    Undistorts the image after camera calibration.\n",
    "    Returns:\n",
    "        img: Undistorted Image\n",
    "    \"\"\"\n",
    "    \n",
    "    return cv2.undistort(img, mtx, dist, None, mtx)"
   ]
  },
  {
   "cell_type": "code",
   "execution_count": 101,
   "metadata": {},
   "outputs": [],
   "source": [
    "if DEBUG:\n",
    "    # Make a list of calibration images\n",
    "    img = cv2.imread('./camera_cal/calibration1.jpg')\n",
    "    test = undistort_image(img, mtx, dist)\n",
    "    plt.imsave(f'./output_images/calibration/undistorted_chessboard.jpg', test)"
   ]
  },
  {
   "cell_type": "markdown",
   "metadata": {},
   "source": [
    "## Transformation to Binary Image <a name=\"transformations\"></a>\n",
    "Goal: Use color transforms, gradients, etc., to create a thresholded binary image."
   ]
  },
  {
   "cell_type": "code",
   "execution_count": 7,
   "metadata": {},
   "outputs": [],
   "source": [
    "# Helper Functions\n",
    "def get_gradient(img, vertical_gradient = True, sobel_kernel=3):\n",
    "    \n",
    "    # Calculate the gradient\n",
    "    return cv2.Sobel(img, cv2.CV_64F, vertical_gradient, not(vertical_gradient))\n",
    "\n",
    "def scale_mtx_to_8bit(mtx):\n",
    "    \n",
    "    scale_factor = np.max(mtx)/255 \n",
    "    return (mtx/scale_factor).astype(np.uint8) \n",
    "\n",
    "def apply_thresholds(mtx, threshold=(0,255), scale = False):\n",
    "    \n",
    "    # Scale the matrix to 8-bits\n",
    "    base = scale_mtx_to_8bit(mtx) if scale else mtx\n",
    "\n",
    "    # Prepare a binary matrix of equal size to the base\n",
    "    binary = np.zeros_like(base)\n",
    "    \n",
    "    # Apply thresholds - \"Activate\" pixels that meet criteira\n",
    "    binary[(base >= threshold[0]) & (base <= threshold[1])] = 1\n",
    "    \n",
    "    return binary"
   ]
  },
  {
   "cell_type": "code",
   "execution_count": 8,
   "metadata": {},
   "outputs": [],
   "source": [
    "# Gradient\n",
    "def apply_gradient_thresholds(gradient, threshold=(0,255)):\n",
    "    \n",
    "    # Get the absolute gradient\n",
    "    abs_sobel = np.absolute(gradient)\n",
    "    \n",
    "    # Apply thresholds in a binary matrix\n",
    "    return apply_thresholds(abs_sobel, threshold, scale = True)\n",
    "\n",
    "# Magnitude\n",
    "def apply_magnitude_thresholds(gradient_x, gradient_y, threshold=(0, 255)):\n",
    "    \n",
    "    # Calculate the gradient magnitude\n",
    "    magnitude = np.sqrt(gradient_x**2 + gradient_y**2)\n",
    "    \n",
    "    # Apply thresholds in a binary matrix\n",
    "    return apply_thresholds(magnitude, threshold, scale = True)\n",
    "\n",
    "# Direction\n",
    "def apply_direction_thresholds(gradient_x, gradient_y, threshold=(0, np.pi/2)):\n",
    "    \n",
    "    # Take the absolute value of the gradient direction, \n",
    "    \n",
    "    abs_gradient_direction = np.arctan2(np.absolute(gradient_y), np.absolute(gradient_x))\n",
    "    \n",
    "    # Apply thresholds in a binary matrix\n",
    "    return apply_thresholds(abs_gradient_direction, threshold)"
   ]
  },
  {
   "cell_type": "code",
   "execution_count": 9,
   "metadata": {},
   "outputs": [],
   "source": [
    "# Gradient Pipeline\n",
    "def apply_gradient_pipeline(img):\n",
    "    \n",
    "    gray = cv2.cvtColor(img, cv2.COLOR_RGB2GRAY)\n",
    "\n",
    "    # Calculate the gradient\n",
    "    sobel_x = get_gradient(gray, True, sobel_kernel = 7)\n",
    "    sobel_y = get_gradient(gray, False, sobel_kernel = 7)\n",
    "\n",
    "    gradient_x_mask = apply_gradient_thresholds(sobel_x, threshold = (20,220))\n",
    "    direction_mask = apply_direction_thresholds(sobel_x, sobel_y, threshold = (40*np.pi/180, 70*np.pi/180))\n",
    "    magnitude_mask = apply_magnitude_thresholds(sobel_x, sobel_y, threshold = (50, 200))\n",
    "    \n",
    "    combined = np.zeros_like(direction_mask)\n",
    "    combined[(gradient_x_mask == 1) & ((magnitude_mask == 1) & (direction_mask == 1))] = 1\n",
    "    \n",
    "    return combined"
   ]
  },
  {
   "cell_type": "code",
   "execution_count": 103,
   "metadata": {},
   "outputs": [],
   "source": [
    "if DEBUG:\n",
    "    \n",
    "    images = glob.glob('./test_images/*')\n",
    "    \n",
    "    # Make a list of calibration images\n",
    "    img = cv2.imread(images[1])\n",
    "    RGB_img = cv2.cvtColor(img, cv2.COLOR_BGR2RGB)\n",
    "    undist = undistort_image(RGB_img, mtx, dist)\n",
    "    plt.imsave(f'./output_images/image_pipeline/undistorted.jpg', undist)\n",
    "    \n",
    "    gray = cv2.cvtColor(undist, cv2.COLOR_RGB2GRAY)\n",
    "\n",
    "    # Calculate the gradient\n",
    "    sobel_x = get_gradient(gray, True, sobel_kernel = 7)\n",
    "    sobel_y = get_gradient(gray, False, sobel_kernel = 7)\n",
    "\n",
    "    gradient_x_mask = apply_gradient_thresholds(sobel_x, threshold = (20,220))\n",
    "    plt.imsave(f'./output_images/image_pipeline/gradient_x_mask.jpg', gradient_x_mask, cmap='gray')\n",
    "    \n",
    "    direction_mask = apply_direction_thresholds(sobel_x, sobel_y, threshold = (40*np.pi/180, 70*np.pi/180))\n",
    "    plt.imsave(f'./output_images/image_pipeline/direction_mask.jpg', direction_mask, cmap='gray')\n",
    "    \n",
    "    magnitude_mask = apply_magnitude_thresholds(sobel_x, sobel_y, threshold = (50, 200))\n",
    "    plt.imsave(f'./output_images/image_pipeline/magnitude_mask.jpg', magnitude_mask, cmap='gray')\n",
    "    \n",
    "    combined = np.zeros_like(direction_mask)\n",
    "    combined[(gradient_x_mask == 1) & ((magnitude_mask == 1) & (direction_mask == 1))] = 1\n",
    "    plt.imsave(f'./output_images/image_pipeline/combined_gradient.jpg', combined, cmap='gray')\n",
    "    "
   ]
  },
  {
   "cell_type": "code",
   "execution_count": 10,
   "metadata": {},
   "outputs": [],
   "source": [
    "# Color\n",
    "def apply_red_threshold(img, threshold = (0, 255)):\n",
    "    \n",
    "    R = img[:,:,0]\n",
    "    return apply_thresholds(R, threshold)\n",
    "\n",
    "def apply_saturation_threshold(img, threshold = (0, 255)):\n",
    "    \n",
    "    hls = cv2.cvtColor(img, cv2.COLOR_RGB2HLS)\n",
    "    S = hls[:,:,2]\n",
    "    return apply_thresholds(S, threshold)\n",
    "\n",
    "def apply_color_pipeline(img):\n",
    "    \n",
    "    R_mask = apply_red_threshold(img, (210,255))\n",
    "    S_mask = apply_saturation_threshold(img, (90, 255))\n",
    "    \n",
    "    combined = np.zeros_like(S_mask)\n",
    "    combined[(R_mask == 1) & (S_mask == 1)] = 1\n",
    "    \n",
    "    return combined"
   ]
  },
  {
   "cell_type": "code",
   "execution_count": 11,
   "metadata": {},
   "outputs": [],
   "source": [
    "def get_thresholded_image(img):\n",
    "\n",
    "    gradient_masks = apply_gradient_pipeline(img)\n",
    "    color_masks = apply_color_pipeline(img)\n",
    "    \n",
    "    combined = np.zeros_like(color_masks)\n",
    "    combined[(gradient_masks == 1) | (color_masks == 1)] = 1\n",
    "    \n",
    "    return combined"
   ]
  },
  {
   "cell_type": "code",
   "execution_count": 14,
   "metadata": {},
   "outputs": [],
   "source": [
    "if DEBUG:\n",
    "    \n",
    "    images = glob.glob('./test_images/*')\n",
    "    \n",
    "    # Make a list of calibration images\n",
    "    img = cv2.imread(images[1])\n",
    "    undist = undistort_image(img, mtx, dist)\n",
    "    \n",
    "    thresholded = get_thresholded_image(undist)\n",
    "    plt.imsave(f'./output_images/image_pipeline/final_gradient.jpg', thresholded, cmap='gray')"
   ]
  },
  {
   "cell_type": "markdown",
   "metadata": {},
   "source": [
    "## Perspective Transform <a name=\"perspective\"></a>\n",
    "Goal: Apply a perspective transform to rectify binary image (\"birds-eye view\")."
   ]
  },
  {
   "cell_type": "code",
   "execution_count": 15,
   "metadata": {},
   "outputs": [],
   "source": [
    "def apply_perspective_transform(img, src, dst):\n",
    "    \n",
    "    img_size = (img.shape[1], img.shape[0])\n",
    "    \n",
    "    M = cv2.getPerspectiveTransform(src, dst)\n",
    "    Minv = cv2.getPerspectiveTransform(dst, src)\n",
    "    warped = cv2.warpPerspective(img, M, img_size, flags=cv2.INTER_LINEAR)\n",
    "    \n",
    "    return M, Minv, warped\n",
    "\n",
    "def apply_lane_birds_eye_view(img):\n",
    "    \n",
    "    height = img.shape[0]\n",
    "    width = img.shape[1]\n",
    "\n",
    "    src = np.float32([[280,  700],  # Bottom left\n",
    "                      [595,  460],  # Top left\n",
    "                      [725,  460],  # Top right\n",
    "                      [1125, 700]]) # Bottom right\n",
    "\n",
    "    dst = np.float32([[width*.2,  height],  # Bottom left\n",
    "                      [width*.2,  0],  # Top left\n",
    "                      [width*.8,  0],  # Top right\n",
    "                      [width*.8, height]]) # Bottom right   \n",
    "\n",
    "    return apply_perspective_transform(img, src, dst)\n"
   ]
  },
  {
   "cell_type": "code",
   "execution_count": 16,
   "metadata": {},
   "outputs": [],
   "source": [
    "def draw_lines_from_points(img, points, color=[255, 0, 0], thickness=3):\n",
    "    \n",
    "    for i in range (0, len(points)):\n",
    "        x1,y1 = points[i]\n",
    "        x2,y2 = points[i+1] if i+1 < len(points) else points[0]\n",
    "\n",
    "        cv2.line(img, (x1, y1), (x2, y2), color, thickness)"
   ]
  },
  {
   "cell_type": "code",
   "execution_count": 23,
   "metadata": {},
   "outputs": [],
   "source": [
    "if DEBUG:\n",
    "    \n",
    "    # Make a list of calibration images\n",
    "    img = cv2.imread(images[1])\n",
    "    RGB_img = cv2.cvtColor(img, cv2.COLOR_BGR2RGB)\n",
    "    undist = undistort_image(RGB_img, mtx, dist)\n",
    "    \n",
    "    height = img.shape[0]\n",
    "    width = img.shape[1]\n",
    "    \n",
    "    src = np.float32([[235,  700],  # Bottom left\n",
    "                      [595,  460],  # Top left\n",
    "                      [725,  460],  # Top right\n",
    "                      [1130, 700]]) # Bottom right\n",
    "\n",
    "    dst = np.float32([[width*.2,  height],  # Bottom left\n",
    "                      [width*.2,  0],  # Top left\n",
    "                      [width*.8,  0],  # Top right\n",
    "                      [width*.8, height]]) # Bottom right  \n",
    "    \n",
    "    M, Minv, warped = apply_lane_birds_eye_view(undist)\n",
    "    \n",
    "    draw_lines_from_points(RGB_img, src)\n",
    "    plt.imsave(f'./output_images/image_pipeline/lane_original.jpg', RGB_img)\n",
    "    \n",
    "    draw_lines_from_points(warped, dst)\n",
    "    plt.imsave(f'./output_images/image_pipeline/bird_eye.jpg', warped)"
   ]
  },
  {
   "cell_type": "markdown",
   "metadata": {},
   "source": [
    "## Detect Line Boundaries <a name=\"boundaries\"></a>\n",
    "Goal: Detect lane pixels and fit to find the lane boundary."
   ]
  },
  {
   "cell_type": "code",
   "execution_count": 24,
   "metadata": {},
   "outputs": [],
   "source": [
    "def get_activation_peaks(img):\n",
    "    \n",
    "    histogram = np.sum(img[img.shape[0]//2:,:], axis=0)\n",
    "\n",
    "    midpoint = np.int(histogram.shape[0]//2)\n",
    "    leftx_base = np.argmax(histogram[:midpoint])\n",
    "    rightx_base = np.argmax(histogram[midpoint:]) + midpoint\n",
    "    \n",
    "    return histogram, leftx_base, rightx_base"
   ]
  },
  {
   "cell_type": "code",
   "execution_count": 25,
   "metadata": {},
   "outputs": [
    {
     "data": {
      "image/png": "[encoded data removed]",
      "text/plain": [
       "<matplotlib.figure.Figure at 0x7f573447e518>"
      ]
     },
     "metadata": {
      "needs_background": "light"
     },
     "output_type": "display_data"
    }
   ],
   "source": [
    "if DEBUG:\n",
    "\n",
    "    # Step 1: Undistoring Image\n",
    "    processed_image = undistort_image(RGB_img, mtx, dist)\n",
    "\n",
    "    # Step 2: Applying Thresholds\n",
    "    processed_image = get_thresholded_image(processed_image) \n",
    "\n",
    "    # Step 3: Changing Perspective\n",
    "    M, Minv, processed_image = apply_lane_birds_eye_view(processed_image)\n",
    "    \n",
    "    histogram, leftx_base, rightx_base = get_activation_peaks(processed_image)\n",
    "    \n",
    "    plt.plot(histogram)\n",
    "    plt.savefig(f'./output_images/image_pipeline/histogram.jpg')"
   ]
  },
  {
   "cell_type": "code",
   "execution_count": 76,
   "metadata": {},
   "outputs": [],
   "source": [
    "def fit_second_degree_polynomial(x, y, img_shape):\n",
    "\n",
    "    # Fit a second order polynomial to each using `np.polyfit`\n",
    "    fit = np.polyfit(y, x, 2)\n",
    "\n",
    "    # Generate x and y values for plotting\n",
    "    ploty = np.linspace(0, img_shape[0]-1, img_shape[0] )\n",
    "    \n",
    "    # x = A*y^2 + B*y + C\n",
    "    fit_x = fit[0]*ploty**2 + fit[1]*ploty + fit[2]\n",
    "\n",
    "    return fit, fit_x, ploty"
   ]
  },
  {
   "cell_type": "code",
   "execution_count": 77,
   "metadata": {},
   "outputs": [],
   "source": [
    "def find_lane_pixels(img, SHOW_IMAGES = False):\n",
    "      \n",
    "    # Starting positions to be updated later for each window in nwindows\n",
    "    histogram, leftx_current, rightx_current = get_activation_peaks(img)\n",
    "    \n",
    "    nwindows = 9 # Number of sliding windows\n",
    "    margin = 110 # Width of the windows +/- margin\n",
    "    minpix = 50 # Minimum number of pixels found to recenter window\n",
    "\n",
    "    # Set height of windows - split height by number of windows\n",
    "    window_height = np.int(img.shape[0]//nwindows)\n",
    "    \n",
    "    # Identify the x and y positions of all nonzero pixels in the image\n",
    "    nonzero = img.nonzero()\n",
    "    nonzeroy = np.array(nonzero[0])\n",
    "    nonzerox = np.array(nonzero[1])\n",
    "\n",
    "    # Create empty lists to receive left and right lane pixel indices\n",
    "    left_lane_inds = []\n",
    "    right_lane_inds = []\n",
    "    \n",
    "    # Output Image\n",
    "    out_img = np.dstack((img, img, img))*255\n",
    "\n",
    "    # Step through the windows one by one\n",
    "    for window in range(nwindows):\n",
    "        \n",
    "        # Vertical Boundaries\n",
    "        win_y_low = img.shape[0] - (window + 1) * window_height\n",
    "        win_y_high = img.shape[0] - window * window_height\n",
    "        \n",
    "        # Left Lane -----------------------------------------------------------\n",
    "        win_xleft_low = leftx_current - margin # Left Lane - Left Boundary\n",
    "        win_xleft_high = leftx_current + margin # Left Lane - Right Boundary\n",
    "        \n",
    "        # Identify the nonzero pixels in x and y within the window #        \n",
    "        good_left_inds = ((nonzeroy >= win_y_low) & (nonzeroy < win_y_high) & \n",
    "        (nonzerox >= win_xleft_low) &  (nonzerox < win_xleft_high)).nonzero()[0]\n",
    "        \n",
    "        left_lane_inds.append(good_left_inds)\n",
    "        \n",
    "        # If you found > minpix pixels, recenter next window on their mean position\n",
    "        if len(good_left_inds) > minpix:\n",
    "            leftx_current = np.int(np.mean(nonzerox[good_left_inds]))\n",
    "        \n",
    "        # Right Lane -----------------------------------------------------------\n",
    "        win_xright_low = rightx_current - margin # Right Lane - Left Boundary\n",
    "        win_xright_high = rightx_current + margin # Right Lane - Right Boundary\n",
    "        \n",
    "        # Identify the nonzero pixels in x and y within the window #        \n",
    "        good_right_inds = ((nonzeroy >= win_y_low) & (nonzeroy < win_y_high) & \n",
    "        (nonzerox >= win_xright_low) &  (nonzerox < win_xright_high)).nonzero()[0]\n",
    "        \n",
    "        right_lane_inds.append(good_right_inds)\n",
    "            \n",
    "        if len(good_right_inds) > minpix:        \n",
    "            rightx_current = np.int(np.mean(nonzerox[good_right_inds]))\n",
    "            \n",
    "        if SHOW_IMAGES:      \n",
    "            # Draw the windows on the visualization image         \n",
    "            cv2.rectangle(out_img, (win_xleft_low,win_y_low),(win_xleft_high,win_y_high), (0,255,0), 3) \n",
    "            cv2.rectangle(out_img, (win_xright_low,win_y_low),(win_xright_high,win_y_high), (0,255,0), 3) \n",
    "    \n",
    "    # Extract left and right line pixel positions\n",
    "    left_lane_inds = np.concatenate(left_lane_inds)\n",
    "    leftx = nonzerox[left_lane_inds]\n",
    "    lefty = nonzeroy[left_lane_inds] \n",
    "    \n",
    "    right_lane_inds = np.concatenate(right_lane_inds)\n",
    "    rightx = nonzerox[right_lane_inds]\n",
    "    righty = nonzeroy[right_lane_inds]\n",
    "\n",
    "    return leftx, lefty, rightx, righty, out_img"
   ]
  },
  {
   "cell_type": "code",
   "execution_count": 84,
   "metadata": {},
   "outputs": [],
   "source": [
    "def detect_lane_lines(img, SHOW_IMAGES = False):\n",
    "    \n",
    "    leftx, lefty, rightx, righty, out_img = find_lane_pixels(img, SHOW_IMAGES = SHOW_IMAGES)\n",
    "    \n",
    "    plt.imsave(f'./output_images/image_pipeline/test.jpg', out_img)\n",
    "    \n",
    "    if SHOW_IMAGES:\n",
    "        out_img[lefty, leftx] = [255, 0, 0]\n",
    "        out_img[righty, rightx] = [0, 0, 255]\n",
    "\n",
    "    left_fit, left_fitx , _ = fit_second_degree_polynomial(leftx, lefty, out_img.shape)\n",
    "    right_fit, right_fitx, ploty = fit_second_degree_polynomial(rightx, righty, out_img.shape)\n",
    "    \n",
    "    if SHOW_IMAGES:\n",
    "        \n",
    "        # Plot the polynomial lines onto the image\n",
    "        left_line = np.array([np.transpose(np.vstack([left_fitx, ploty]))])\n",
    "        cv2.polylines(out_img, np.int_([left_line]), False, (255,255,0), 3)\n",
    "        \n",
    "        right_line = np.array([np.transpose(np.vstack([right_fitx, ploty]))])\n",
    "        cv2.polylines(out_img, np.int_([right_line]), False, (255,255,0), 3)   \n",
    "    \n",
    "    return (left_fit, right_fit), (left_fitx, right_fitx), out_img"
   ]
  },
  {
   "cell_type": "code",
   "execution_count": 85,
   "metadata": {},
   "outputs": [],
   "source": [
    "def detect_lane_lines_bias(img, left_fit, right_fit, SHOW_IMAGES = False):\n",
    "    \n",
    "    margin = 100 # Width of the windows +/- margin\n",
    "    \n",
    "    if left_fit is None or right_fit is None:\n",
    "        return detect_lane_lines(img)\n",
    "        \n",
    "    # Identify the x and y positions of all nonzero pixels in the image\n",
    "    nonzero = img.nonzero()\n",
    "    nonzeroy = np.array(nonzero[0])\n",
    "    nonzerox = np.array(nonzero[1])\n",
    "    \n",
    "    # Get the left lane from polynomial fit\n",
    "    left_lane_inds = ((nonzerox > (left_fit[0]*(nonzeroy**2) + left_fit[1]*nonzeroy + \n",
    "                    left_fit[2] - margin)) & (nonzerox < (left_fit[0]*(nonzeroy**2) + \n",
    "                    left_fit[1]*nonzeroy + left_fit[2] + margin)))\n",
    "    \n",
    "    leftx = nonzerox[left_lane_inds]\n",
    "    lefty = nonzeroy[left_lane_inds] \n",
    "    \n",
    "    # Get the right lane from polynomial fit\n",
    "    x_right_low = right_fit[0]*(nonzeroy**2) + right_fit[1]*nonzeroy + right_fit[2] - margin\n",
    "    x_right_high = right_fit[0]*(nonzeroy**2) + right_fit[1]*nonzeroy + right_fit[2] + margin\n",
    "    right_lane_inds = ((nonzerox > x_right_low) & (nonzerox < x_right_high))\n",
    "    \n",
    "    rightx = nonzerox[right_lane_inds]\n",
    "    righty = nonzeroy[right_lane_inds]\n",
    "    \n",
    "    # Ensure exhaustive search is performed if any lane dissapears\n",
    "    if (leftx.size == 0 or rightx.size == 0):\n",
    "        return detect_lane_lines(img)\n",
    "\n",
    "    # Fit new polynomials   \n",
    "    left_fit, left_fitx, _ = fit_second_degree_polynomial(leftx, lefty, img.shape[:2])\n",
    "    right_fit, right_fitx, ploty = fit_second_degree_polynomial(rightx, righty, img.shape[:2])\n",
    "    \n",
    "    # Create an image to draw on and an image to show the selection window\n",
    "    out_img = np.dstack((img, img, img))*255\n",
    "    \n",
    "    if SHOW_IMAGES:\n",
    "  \n",
    "        window_img = np.zeros_like(out_img)\n",
    "\n",
    "        # Color in left and right line pixels\n",
    "        out_img[nonzeroy[left_lane_inds], nonzerox[left_lane_inds]] = [255, 0, 0]\n",
    "        out_img[nonzeroy[right_lane_inds], nonzerox[right_lane_inds]] = [0, 0, 255]\n",
    "\n",
    "        # Generate a polygon to illustrate the search window area\n",
    "        # And recast the x and y points into usable format for cv2.fillPoly()\n",
    "        left_line_window1 = np.array([np.transpose(np.vstack([left_fitx-margin, ploty]))])\n",
    "        left_line_window2 = np.array([np.flipud(np.transpose(np.vstack([left_fitx+margin, \n",
    "                                  ploty])))])\n",
    "        left_line_pts = np.hstack((left_line_window1, left_line_window2))\n",
    "        right_line_window1 = np.array([np.transpose(np.vstack([right_fitx-margin, ploty]))])\n",
    "        right_line_window2 = np.array([np.flipud(np.transpose(np.vstack([right_fitx+margin, \n",
    "                                  ploty])))])\n",
    "        right_line_pts = np.hstack((right_line_window1, right_line_window2))\n",
    "\n",
    "        # Draw the lane onto the warped blank image\n",
    "        cv2.fillPoly(window_img, np.int_([left_line_pts]), (0,255, 0))\n",
    "        cv2.fillPoly(window_img, np.int_([right_line_pts]), (0,255, 0))\n",
    "        out_img = cv2.addWeighted(out_img, 1, window_img, 0.3, 0)\n",
    "\n",
    "        # Plot the polynomial lines onto the image\n",
    "        left_line = np.array([np.transpose(np.vstack([left_fitx, ploty]))])\n",
    "        cv2.polylines(out_img, np.int_([left_line]), False, (255,255,0), 3)\n",
    "        \n",
    "        right_line = np.array([np.transpose(np.vstack([right_fitx, ploty]))])\n",
    "        cv2.polylines(out_img, np.int_([right_line]), False, (255,255,0), 3) \n",
    "    \n",
    "    return (left_fit, right_fit), (left_fitx, right_fitx), out_img"
   ]
  },
  {
   "cell_type": "code",
   "execution_count": 88,
   "metadata": {},
   "outputs": [],
   "source": [
    "if DEBUG:\n",
    "    \n",
    "    # Make a list of calibration images\n",
    "    img = cv2.imread(images[1])\n",
    "    \n",
    "    # Step 1: Undistoring Image\n",
    "    processed_image = undistort_image(img, mtx, dist)\n",
    "\n",
    "    # Step 2: Applying Thresholds\n",
    "    processed_image = get_thresholded_image(processed_image) \n",
    "\n",
    "    # Step 3: Changing Perspective\n",
    "    M, Minv, processed_image = apply_lane_birds_eye_view(processed_image)\n",
    "    \n",
    "    line_fit, _, out_img = detect_lane_lines(processed_image, SHOW_IMAGES=True)\n",
    "    plt.imsave(f'./output_images/image_pipeline/detect_lane.jpg', out_img)\n",
    "    \n",
    "    line_fit, _, out_img = detect_lane_lines_bias(processed_image, line_fit[0], line_fit[1], SHOW_IMAGES=True)\n",
    "    plt.imsave(f'./output_images/image_pipeline/detect_lane2.jpg', out_img)\n",
    "    "
   ]
  },
  {
   "cell_type": "markdown",
   "metadata": {},
   "source": [
    "## Lane Curvature & Vehicle Center <a name=\"curvature\"></a>\n",
    "Goal: Determine the curvature of the lane and vehicle position with respect to center."
   ]
  },
  {
   "cell_type": "code",
   "execution_count": 89,
   "metadata": {},
   "outputs": [],
   "source": [
    "def get_curvature_radius(x, img_shape):\n",
    "    \n",
    "    # Define conversions in x and y from pixels space to meters\n",
    "    ym_per_pix = 30/720 # meters per pixel in y dimension\n",
    "    xm_per_pix = 3.7/700 # meters per pixel in x dimension\n",
    "    \n",
    "    ploty = np.linspace(0, img_shape[0] - 1, img_shape[0])\n",
    "    \n",
    "    fit = np.polyfit(ploty*ym_per_pix, x*xm_per_pix, 2)       \n",
    "    y_eval = np.max(ploty)\n",
    "    \n",
    "    # Calculation of R_curve (radius of curvature)\n",
    "    curve_rad = ((1 + (2*fit[0]*y_eval*ym_per_pix + fit[1])**2)**1.5) / np.absolute(2*fit[0])\n",
    "    \n",
    "    return curve_rad"
   ]
  },
  {
   "cell_type": "code",
   "execution_count": 90,
   "metadata": {},
   "outputs": [],
   "source": [
    "def get_lanes_curvature(left_x, right_x, img_shape):\n",
    "    \n",
    "    left_cr = get_curvature_radius(left_x, img_shape)\n",
    "    right_cr = get_curvature_radius(right_x, img_shape)\n",
    "    \n",
    "    return left_cr, right_cr"
   ]
  },
  {
   "cell_type": "code",
   "execution_count": 91,
   "metadata": {},
   "outputs": [],
   "source": [
    "def get_car_offset(left_lane, right_lane, img_shape):\n",
    "    \n",
    "    xm_per_pix = 3.7/700 # meters per pixel in x dimension\n",
    "    mid_offset = (img_shape[1] - left_lane - right_lane)//2\n",
    "    \n",
    "    return mid_offset * xm_per_pix    "
   ]
  },
  {
   "cell_type": "markdown",
   "metadata": {},
   "source": [
    "## Unwarp image <a name=\"unwarp\"></a>\n",
    "Goal: Warp the detected lane boundaries back onto the original image."
   ]
  },
  {
   "cell_type": "code",
   "execution_count": 92,
   "metadata": {},
   "outputs": [],
   "source": [
    "def restore_perspective(img, Minv):\n",
    "    \n",
    "    img_size = (img.shape[1], img.shape[0])\n",
    "    \n",
    "    return cv2.warpPerspective(img, Minv, img_size, flags=cv2.INTER_LINEAR)"
   ]
  },
  {
   "cell_type": "markdown",
   "metadata": {},
   "source": [
    "## Render Lane Lines <a name=\"render\"></a>\n",
    "Goal: Output visual display of the lane boundaries and numerical estimation of lane curvature and vehicle position."
   ]
  },
  {
   "cell_type": "code",
   "execution_count": 93,
   "metadata": {},
   "outputs": [],
   "source": [
    "def highlight_lane(img, left_x, right_x, img_shape):\n",
    "    \n",
    "    # Create an image to draw the lines on\n",
    "    window_img = np.zeros_like(img).astype(np.uint8)\n",
    "    out_img = np.dstack((img, img, img))\n",
    "    \n",
    "    ploty = np.linspace(0, img_shape[0] - 1, img_shape[0])\n",
    "\n",
    "    left_margin = np.array([np.transpose(np.vstack([left_x, ploty]))])\n",
    "    right_margin = np.array([np.flipud(np.transpose(np.vstack([right_x, ploty])))])\n",
    "    lane = np.hstack((left_margin, right_margin))\n",
    "\n",
    "    # Draw the lane\n",
    "    cv2.fillPoly(out_img, np.int_([lane]), (0,255, 0))\n",
    "    \n",
    "    return out_img"
   ]
  },
  {
   "cell_type": "code",
   "execution_count": 94,
   "metadata": {},
   "outputs": [],
   "source": [
    "def add_metrics(img, left_x, right_x):\n",
    "    \n",
    "    size = 1.5\n",
    "    color = (255, 255, 255)\n",
    "    thickness = 3\n",
    "    font = cv2.FONT_HERSHEY_PLAIN\n",
    "    \n",
    "    # Calculate metrics\n",
    "    left_curvature_radius = get_curvature_radius(left_x, img.shape)\n",
    "    right_curvature_radius = get_curvature_radius(right_x, img.shape)\n",
    "\n",
    "    # Display lane curvature\n",
    "    cv2.putText(img, 'Left radius of curvature: {:.2f} m'.format(left_curvature_radius), \n",
    "                (50, 50), cv2.FONT_HERSHEY_SIMPLEX, size, color, thickness)\n",
    "    cv2.putText(img, 'Right radius of curvature: {:.2f} m'.format(right_curvature_radius), \n",
    "                (50, 100), cv2.FONT_HERSHEY_SIMPLEX, size, color, thickness)\n",
    "    \n",
    "    # Calculate car offser\n",
    "    offset = get_car_offset(left_x[-1], right_x[-1], img.shape)\n",
    "    \n",
    "    # Display car offset\n",
    "    cv2.putText(img, 'Vehicle is {:.2f} m left of center'.format(offset), \n",
    "                (50, 150), cv2.FONT_HERSHEY_SIMPLEX, size, color, thickness)\n",
    "    "
   ]
  },
  {
   "cell_type": "markdown",
   "metadata": {},
   "source": [
    "# Final Pipeline"
   ]
  },
  {
   "cell_type": "code",
   "execution_count": 95,
   "metadata": {},
   "outputs": [],
   "source": [
    "class LaneDetector:\n",
    "    def __init__(self, nx, ny, calibration_path):\n",
    "        \n",
    "        cal_images = glob.glob(calibration_path)\n",
    "        self.mtx, self.dist = calibrate_camera(nx, ny, cal_images, DEBUG, SHOW_IMAGES)\n",
    "    \n",
    "        self.line_fit = (None, None)\n",
    "\n",
    "    def __call__(self, img): \n",
    "\n",
    "        # Step 1: Undistoring Image\n",
    "        processed_image = undistort_image(img, self.mtx, self.dist)\n",
    "\n",
    "        # Step 2: Applying Thresholds\n",
    "        processed_image = get_thresholded_image(processed_image) \n",
    "\n",
    "        # Step 3: Changing Perspective\n",
    "        M, Minv, processed_image = apply_lane_birds_eye_view(processed_image)\n",
    "\n",
    "        # Step 4: Detect Lines\n",
    "        self.line_fit, line_points, _ = detect_lane_lines_bias(processed_image, *self.line_fit,                                                           \n",
    "                                                               SHOW_IMAGES = False)\n",
    "\n",
    "        # Step 5: Highlight Lane\n",
    "        lane = highlight_lane(processed_image, line_points[0], line_points[1], processed_image.shape[:2])\n",
    "\n",
    "        # Step 6: Unwarp lane and add to main image\n",
    "        unwarped_lane = restore_perspective(lane, Minv) \n",
    "        final_image = cv2.addWeighted(img, 1, unwarped_lane, 0.3, 0)\n",
    "\n",
    "        # Step 7: Add Metrics\n",
    "        add_metrics(final_image, line_points[0], line_points[1])\n",
    "\n",
    "        return final_image"
   ]
  },
  {
   "cell_type": "markdown",
   "metadata": {},
   "source": [
    "## Setup"
   ]
  },
  {
   "cell_type": "code",
   "execution_count": 96,
   "metadata": {},
   "outputs": [
    {
     "name": "stdout",
     "output_type": "stream",
     "text": [
      "Image ./camera_cal/calibration3.jpg (0/20) - Corners Found: True\n",
      "Image ./camera_cal/calibration9.jpg (1/20) - Corners Found: True\n",
      "Image ./camera_cal/calibration12.jpg (2/20) - Corners Found: True\n",
      "Image ./camera_cal/calibration20.jpg (3/20) - Corners Found: True\n",
      "Image ./camera_cal/calibration16.jpg (4/20) - Corners Found: True\n",
      "Image ./camera_cal/calibration13.jpg (5/20) - Corners Found: True\n",
      "Image ./camera_cal/calibration14.jpg (6/20) - Corners Found: True\n",
      "Image ./camera_cal/calibration4.jpg (7/20) - Corners Found: False\n",
      "Image ./camera_cal/calibration7.jpg (8/20) - Corners Found: True\n",
      "Image ./camera_cal/calibration2.jpg (9/20) - Corners Found: True\n",
      "Image ./camera_cal/calibration11.jpg (10/20) - Corners Found: True\n",
      "Image ./camera_cal/calibration17.jpg (11/20) - Corners Found: True\n",
      "Image ./camera_cal/calibration1.jpg (12/20) - Corners Found: False\n",
      "Image ./camera_cal/calibration19.jpg (13/20) - Corners Found: True\n",
      "Image ./camera_cal/calibration10.jpg (14/20) - Corners Found: True\n",
      "Image ./camera_cal/calibration5.jpg (15/20) - Corners Found: False\n",
      "Image ./camera_cal/calibration15.jpg (16/20) - Corners Found: True\n",
      "Image ./camera_cal/calibration8.jpg (17/20) - Corners Found: True\n",
      "Image ./camera_cal/calibration6.jpg (18/20) - Corners Found: True\n",
      "Image ./camera_cal/calibration18.jpg (19/20) - Corners Found: True\n"
     ]
    }
   ],
   "source": [
    "# Make a list of calibration images\n",
    "base_dir = \"test_images/\"\n",
    "lane_detector = LaneDetector(9, 6, './camera_cal/calibration*.jpg')"
   ]
  },
  {
   "cell_type": "markdown",
   "metadata": {},
   "source": [
    "## Process Test Images"
   ]
  },
  {
   "cell_type": "code",
   "execution_count": 97,
   "metadata": {},
   "outputs": [],
   "source": [
    "for img_path in os.listdir(base_dir):\n",
    "    \n",
    "    output_dir = \"output_images/\"\n",
    "    \n",
    "    img = mpimg.imread(base_dir + img_path)\n",
    "    processed_img = lane_detector(img)\n",
    "\n",
    "    plt.imsave(output_dir + img_path, processed_img)"
   ]
  },
  {
   "cell_type": "markdown",
   "metadata": {},
   "source": [
    "## Process Test Videos"
   ]
  },
  {
   "cell_type": "code",
   "execution_count": 98,
   "metadata": {},
   "outputs": [],
   "source": [
    "# Import everything needed to edit/save/watch video clips\n",
    "from moviepy.editor import VideoFileClip\n",
    "from IPython.display import HTML"
   ]
  },
  {
   "cell_type": "code",
   "execution_count": 99,
   "metadata": {},
   "outputs": [
    {
     "name": "stdout",
     "output_type": "stream",
     "text": [
      "[MoviePy] >>>> Building video output_videos/project_video.mp4\n",
      "[MoviePy] Writing video output_videos/project_video.mp4\n"
     ]
    },
    {
     "name": "stderr",
     "output_type": "stream",
     "text": [
      "100%|█████████▉| 1260/1261 [05:18<00:00,  4.07it/s]\n"
     ]
    },
    {
     "name": "stdout",
     "output_type": "stream",
     "text": [
      "[MoviePy] Done.\n",
      "[MoviePy] >>>> Video ready: output_videos/project_video.mp4 \n",
      "\n",
      "CPU times: user 2min 59s, sys: 16.3 s, total: 3min 15s\n",
      "Wall time: 5min 21s\n"
     ]
    }
   ],
   "source": [
    "output = 'output_videos/project_video.mp4'\n",
    "\n",
    "clip1 = VideoFileClip(\"project_video.mp4\")\n",
    "clip = clip1.fl_image(lane_detector) \n",
    "%time clip.write_videofile(output, audio=False)"
   ]
  },
  {
   "cell_type": "code",
   "execution_count": 100,
   "metadata": {},
   "outputs": [
    {
     "data": {
      "text/html": [
       "\n",
       "<video width=\"960\" height=\"540\" controls>\n",
       "  <source src=\"output_videos/project_video.mp4\">\n",
       "</video>\n"
      ],
      "text/plain": [
       "<IPython.core.display.HTML object>"
      ]
     },
     "execution_count": 100,
     "metadata": {},
     "output_type": "execute_result"
    }
   ],
   "source": [
    "HTML(\"\"\"\n",
    "<video width=\"960\" height=\"540\" controls>\n",
    "  <source src=\"{0}\">\n",
    "</video>\n",
    "\"\"\".format(output))"
   ]
  },
  {
   "cell_type": "code",
   "execution_count": 27,
   "metadata": {},
   "outputs": [
    {
     "ename": "NameError",
     "evalue": "name 'apply_gradient_pipeline' is not defined",
     "output_type": "error",
     "traceback": [
      "\u001b[0;31m---------------------------------------------------------------------------\u001b[0m",
      "\u001b[0;31mNameError\u001b[0m                                 Traceback (most recent call last)",
      "\u001b[0;32m<ipython-input-27-7bd990574087>\u001b[0m in \u001b[0;36m<module>\u001b[0;34m()\u001b[0m\n\u001b[1;32m      3\u001b[0m \u001b[0;34m\u001b[0m\u001b[0m\n\u001b[1;32m      4\u001b[0m \u001b[0mclip1\u001b[0m \u001b[0;34m=\u001b[0m \u001b[0mVideoFileClip\u001b[0m\u001b[0;34m(\u001b[0m\u001b[0mname\u001b[0m\u001b[0;34m)\u001b[0m\u001b[0;34m\u001b[0m\u001b[0m\n\u001b[0;32m----> 5\u001b[0;31m \u001b[0mclip\u001b[0m \u001b[0;34m=\u001b[0m \u001b[0mclip1\u001b[0m\u001b[0;34m.\u001b[0m\u001b[0mfl_image\u001b[0m\u001b[0;34m(\u001b[0m\u001b[0mlane_detector\u001b[0m\u001b[0;34m)\u001b[0m\u001b[0;34m\u001b[0m\u001b[0m\n\u001b[0m\u001b[1;32m      6\u001b[0m \u001b[0mget_ipython\u001b[0m\u001b[0;34m(\u001b[0m\u001b[0;34m)\u001b[0m\u001b[0;34m.\u001b[0m\u001b[0mrun_line_magic\u001b[0m\u001b[0;34m(\u001b[0m\u001b[0;34m'time'\u001b[0m\u001b[0;34m,\u001b[0m \u001b[0;34m'clip.write_videofile(output, audio=False)'\u001b[0m\u001b[0;34m)\u001b[0m\u001b[0;34m\u001b[0m\u001b[0m\n",
      "\u001b[0;32m/opt/conda/lib/python3.6/site-packages/moviepy/video/VideoClip.py\u001b[0m in \u001b[0;36mfl_image\u001b[0;34m(self, image_func, apply_to)\u001b[0m\n\u001b[1;32m    531\u001b[0m         \u001b[0;31m`\u001b[0m\u001b[0mget_frame\u001b[0m\u001b[0;34m(\u001b[0m\u001b[0mt\u001b[0m\u001b[0;34m)\u001b[0m\u001b[0;31m`\u001b[0m \u001b[0mby\u001b[0m \u001b[0manother\u001b[0m \u001b[0mframe\u001b[0m\u001b[0;34m,\u001b[0m\u001b[0;31m \u001b[0m\u001b[0;31m \u001b[0m\u001b[0;31m`\u001b[0m\u001b[0mimage_func\u001b[0m\u001b[0;34m(\u001b[0m\u001b[0mget_frame\u001b[0m\u001b[0;34m(\u001b[0m\u001b[0mt\u001b[0m\u001b[0;34m)\u001b[0m\u001b[0;34m)\u001b[0m\u001b[0;31m`\u001b[0m\u001b[0;34m\u001b[0m\u001b[0m\n\u001b[1;32m    532\u001b[0m         \"\"\"\n\u001b[0;32m--> 533\u001b[0;31m         \u001b[0;32mreturn\u001b[0m \u001b[0mself\u001b[0m\u001b[0;34m.\u001b[0m\u001b[0mfl\u001b[0m\u001b[0;34m(\u001b[0m\u001b[0;32mlambda\u001b[0m \u001b[0mgf\u001b[0m\u001b[0;34m,\u001b[0m \u001b[0mt\u001b[0m\u001b[0;34m:\u001b[0m \u001b[0mimage_func\u001b[0m\u001b[0;34m(\u001b[0m\u001b[0mgf\u001b[0m\u001b[0;34m(\u001b[0m\u001b[0mt\u001b[0m\u001b[0;34m)\u001b[0m\u001b[0;34m)\u001b[0m\u001b[0;34m,\u001b[0m \u001b[0mapply_to\u001b[0m\u001b[0;34m)\u001b[0m\u001b[0;34m\u001b[0m\u001b[0m\n\u001b[0m\u001b[1;32m    534\u001b[0m \u001b[0;34m\u001b[0m\u001b[0m\n\u001b[1;32m    535\u001b[0m     \u001b[0;31m# --------------------------------------------------------------\u001b[0m\u001b[0;34m\u001b[0m\u001b[0;34m\u001b[0m\u001b[0m\n",
      "\u001b[0;32m/opt/conda/lib/python3.6/site-packages/moviepy/Clip.py\u001b[0m in \u001b[0;36mfl\u001b[0;34m(self, fun, apply_to, keep_duration)\u001b[0m\n\u001b[1;32m    134\u001b[0m \u001b[0;34m\u001b[0m\u001b[0m\n\u001b[1;32m    135\u001b[0m         \u001b[0;31m#mf = copy(self.make_frame)\u001b[0m\u001b[0;34m\u001b[0m\u001b[0;34m\u001b[0m\u001b[0m\n\u001b[0;32m--> 136\u001b[0;31m         \u001b[0mnewclip\u001b[0m \u001b[0;34m=\u001b[0m \u001b[0mself\u001b[0m\u001b[0;34m.\u001b[0m\u001b[0mset_make_frame\u001b[0m\u001b[0;34m(\u001b[0m\u001b[0;32mlambda\u001b[0m \u001b[0mt\u001b[0m\u001b[0;34m:\u001b[0m \u001b[0mfun\u001b[0m\u001b[0;34m(\u001b[0m\u001b[0mself\u001b[0m\u001b[0;34m.\u001b[0m\u001b[0mget_frame\u001b[0m\u001b[0;34m,\u001b[0m \u001b[0mt\u001b[0m\u001b[0;34m)\u001b[0m\u001b[0;34m)\u001b[0m\u001b[0;34m\u001b[0m\u001b[0m\n\u001b[0m\u001b[1;32m    137\u001b[0m \u001b[0;34m\u001b[0m\u001b[0m\n\u001b[1;32m    138\u001b[0m         \u001b[0;32mif\u001b[0m \u001b[0;32mnot\u001b[0m \u001b[0mkeep_duration\u001b[0m\u001b[0;34m:\u001b[0m\u001b[0;34m\u001b[0m\u001b[0m\n",
      "\u001b[0;32m<decorator-gen-181>\u001b[0m in \u001b[0;36mset_make_frame\u001b[0;34m(self, mf)\u001b[0m\n",
      "\u001b[0;32m/opt/conda/lib/python3.6/site-packages/moviepy/decorators.py\u001b[0m in \u001b[0;36moutplace\u001b[0;34m(f, clip, *a, **k)\u001b[0m\n\u001b[1;32m     12\u001b[0m     \u001b[0;34m\"\"\" Applies f(clip.copy(), *a, **k) and returns clip.copy()\"\"\"\u001b[0m\u001b[0;34m\u001b[0m\u001b[0m\n\u001b[1;32m     13\u001b[0m     \u001b[0mnewclip\u001b[0m \u001b[0;34m=\u001b[0m \u001b[0mclip\u001b[0m\u001b[0;34m.\u001b[0m\u001b[0mcopy\u001b[0m\u001b[0;34m(\u001b[0m\u001b[0;34m)\u001b[0m\u001b[0;34m\u001b[0m\u001b[0m\n\u001b[0;32m---> 14\u001b[0;31m     \u001b[0mf\u001b[0m\u001b[0;34m(\u001b[0m\u001b[0mnewclip\u001b[0m\u001b[0;34m,\u001b[0m \u001b[0;34m*\u001b[0m\u001b[0ma\u001b[0m\u001b[0;34m,\u001b[0m \u001b[0;34m**\u001b[0m\u001b[0mk\u001b[0m\u001b[0;34m)\u001b[0m\u001b[0;34m\u001b[0m\u001b[0m\n\u001b[0m\u001b[1;32m     15\u001b[0m     \u001b[0;32mreturn\u001b[0m \u001b[0mnewclip\u001b[0m\u001b[0;34m\u001b[0m\u001b[0m\n\u001b[1;32m     16\u001b[0m \u001b[0;34m\u001b[0m\u001b[0m\n",
      "\u001b[0;32m/opt/conda/lib/python3.6/site-packages/moviepy/video/VideoClip.py\u001b[0m in \u001b[0;36mset_make_frame\u001b[0;34m(self, mf)\u001b[0m\n\u001b[1;32m    692\u001b[0m         \"\"\"\n\u001b[1;32m    693\u001b[0m         \u001b[0mself\u001b[0m\u001b[0;34m.\u001b[0m\u001b[0mmake_frame\u001b[0m \u001b[0;34m=\u001b[0m \u001b[0mmf\u001b[0m\u001b[0;34m\u001b[0m\u001b[0m\n\u001b[0;32m--> 694\u001b[0;31m         \u001b[0mself\u001b[0m\u001b[0;34m.\u001b[0m\u001b[0msize\u001b[0m \u001b[0;34m=\u001b[0m \u001b[0mself\u001b[0m\u001b[0;34m.\u001b[0m\u001b[0mget_frame\u001b[0m\u001b[0;34m(\u001b[0m\u001b[0;36m0\u001b[0m\u001b[0;34m)\u001b[0m\u001b[0;34m.\u001b[0m\u001b[0mshape\u001b[0m\u001b[0;34m[\u001b[0m\u001b[0;34m:\u001b[0m\u001b[0;36m2\u001b[0m\u001b[0;34m]\u001b[0m\u001b[0;34m[\u001b[0m\u001b[0;34m:\u001b[0m\u001b[0;34m:\u001b[0m\u001b[0;34m-\u001b[0m\u001b[0;36m1\u001b[0m\u001b[0;34m]\u001b[0m\u001b[0;34m\u001b[0m\u001b[0m\n\u001b[0m\u001b[1;32m    695\u001b[0m \u001b[0;34m\u001b[0m\u001b[0m\n\u001b[1;32m    696\u001b[0m \u001b[0;34m\u001b[0m\u001b[0m\n",
      "\u001b[0;32m<decorator-gen-138>\u001b[0m in \u001b[0;36mget_frame\u001b[0;34m(self, t)\u001b[0m\n",
      "\u001b[0;32m/opt/conda/lib/python3.6/site-packages/moviepy/decorators.py\u001b[0m in \u001b[0;36mwrapper\u001b[0;34m(f, *a, **kw)\u001b[0m\n\u001b[1;32m     87\u001b[0m         new_kw = {k: fun(v) if k in varnames else v\n\u001b[1;32m     88\u001b[0m                  for (k,v) in kw.items()}\n\u001b[0;32m---> 89\u001b[0;31m         \u001b[0;32mreturn\u001b[0m \u001b[0mf\u001b[0m\u001b[0;34m(\u001b[0m\u001b[0;34m*\u001b[0m\u001b[0mnew_a\u001b[0m\u001b[0;34m,\u001b[0m \u001b[0;34m**\u001b[0m\u001b[0mnew_kw\u001b[0m\u001b[0;34m)\u001b[0m\u001b[0;34m\u001b[0m\u001b[0m\n\u001b[0m\u001b[1;32m     90\u001b[0m     \u001b[0;32mreturn\u001b[0m \u001b[0mdecorator\u001b[0m\u001b[0;34m.\u001b[0m\u001b[0mdecorator\u001b[0m\u001b[0;34m(\u001b[0m\u001b[0mwrapper\u001b[0m\u001b[0;34m)\u001b[0m\u001b[0;34m\u001b[0m\u001b[0m\n\u001b[1;32m     91\u001b[0m \u001b[0;34m\u001b[0m\u001b[0m\n",
      "\u001b[0;32m/opt/conda/lib/python3.6/site-packages/moviepy/Clip.py\u001b[0m in \u001b[0;36mget_frame\u001b[0;34m(self, t)\u001b[0m\n\u001b[1;32m     93\u001b[0m                 \u001b[0;32mreturn\u001b[0m \u001b[0mframe\u001b[0m\u001b[0;34m\u001b[0m\u001b[0m\n\u001b[1;32m     94\u001b[0m         \u001b[0;32melse\u001b[0m\u001b[0;34m:\u001b[0m\u001b[0;34m\u001b[0m\u001b[0m\n\u001b[0;32m---> 95\u001b[0;31m             \u001b[0;32mreturn\u001b[0m \u001b[0mself\u001b[0m\u001b[0;34m.\u001b[0m\u001b[0mmake_frame\u001b[0m\u001b[0;34m(\u001b[0m\u001b[0mt\u001b[0m\u001b[0;34m)\u001b[0m\u001b[0;34m\u001b[0m\u001b[0m\n\u001b[0m\u001b[1;32m     96\u001b[0m \u001b[0;34m\u001b[0m\u001b[0m\n\u001b[1;32m     97\u001b[0m     \u001b[0;32mdef\u001b[0m \u001b[0mfl\u001b[0m\u001b[0;34m(\u001b[0m\u001b[0mself\u001b[0m\u001b[0;34m,\u001b[0m \u001b[0mfun\u001b[0m\u001b[0;34m,\u001b[0m \u001b[0mapply_to\u001b[0m\u001b[0;34m=\u001b[0m\u001b[0;34m[\u001b[0m\u001b[0;34m]\u001b[0m\u001b[0;34m,\u001b[0m \u001b[0mkeep_duration\u001b[0m\u001b[0;34m=\u001b[0m\u001b[0;32mTrue\u001b[0m\u001b[0;34m)\u001b[0m\u001b[0;34m:\u001b[0m\u001b[0;34m\u001b[0m\u001b[0m\n",
      "\u001b[0;32m/opt/conda/lib/python3.6/site-packages/moviepy/Clip.py\u001b[0m in \u001b[0;36m<lambda>\u001b[0;34m(t)\u001b[0m\n\u001b[1;32m    134\u001b[0m \u001b[0;34m\u001b[0m\u001b[0m\n\u001b[1;32m    135\u001b[0m         \u001b[0;31m#mf = copy(self.make_frame)\u001b[0m\u001b[0;34m\u001b[0m\u001b[0;34m\u001b[0m\u001b[0m\n\u001b[0;32m--> 136\u001b[0;31m         \u001b[0mnewclip\u001b[0m \u001b[0;34m=\u001b[0m \u001b[0mself\u001b[0m\u001b[0;34m.\u001b[0m\u001b[0mset_make_frame\u001b[0m\u001b[0;34m(\u001b[0m\u001b[0;32mlambda\u001b[0m \u001b[0mt\u001b[0m\u001b[0;34m:\u001b[0m \u001b[0mfun\u001b[0m\u001b[0;34m(\u001b[0m\u001b[0mself\u001b[0m\u001b[0;34m.\u001b[0m\u001b[0mget_frame\u001b[0m\u001b[0;34m,\u001b[0m \u001b[0mt\u001b[0m\u001b[0;34m)\u001b[0m\u001b[0;34m)\u001b[0m\u001b[0;34m\u001b[0m\u001b[0m\n\u001b[0m\u001b[1;32m    137\u001b[0m \u001b[0;34m\u001b[0m\u001b[0m\n\u001b[1;32m    138\u001b[0m         \u001b[0;32mif\u001b[0m \u001b[0;32mnot\u001b[0m \u001b[0mkeep_duration\u001b[0m\u001b[0;34m:\u001b[0m\u001b[0;34m\u001b[0m\u001b[0m\n",
      "\u001b[0;32m/opt/conda/lib/python3.6/site-packages/moviepy/video/VideoClip.py\u001b[0m in \u001b[0;36m<lambda>\u001b[0;34m(gf, t)\u001b[0m\n\u001b[1;32m    531\u001b[0m         \u001b[0;31m`\u001b[0m\u001b[0mget_frame\u001b[0m\u001b[0;34m(\u001b[0m\u001b[0mt\u001b[0m\u001b[0;34m)\u001b[0m\u001b[0;31m`\u001b[0m \u001b[0mby\u001b[0m \u001b[0manother\u001b[0m \u001b[0mframe\u001b[0m\u001b[0;34m,\u001b[0m\u001b[0;31m \u001b[0m\u001b[0;31m \u001b[0m\u001b[0;31m`\u001b[0m\u001b[0mimage_func\u001b[0m\u001b[0;34m(\u001b[0m\u001b[0mget_frame\u001b[0m\u001b[0;34m(\u001b[0m\u001b[0mt\u001b[0m\u001b[0;34m)\u001b[0m\u001b[0;34m)\u001b[0m\u001b[0;31m`\u001b[0m\u001b[0;34m\u001b[0m\u001b[0m\n\u001b[1;32m    532\u001b[0m         \"\"\"\n\u001b[0;32m--> 533\u001b[0;31m         \u001b[0;32mreturn\u001b[0m \u001b[0mself\u001b[0m\u001b[0;34m.\u001b[0m\u001b[0mfl\u001b[0m\u001b[0;34m(\u001b[0m\u001b[0;32mlambda\u001b[0m \u001b[0mgf\u001b[0m\u001b[0;34m,\u001b[0m \u001b[0mt\u001b[0m\u001b[0;34m:\u001b[0m \u001b[0mimage_func\u001b[0m\u001b[0;34m(\u001b[0m\u001b[0mgf\u001b[0m\u001b[0;34m(\u001b[0m\u001b[0mt\u001b[0m\u001b[0;34m)\u001b[0m\u001b[0;34m)\u001b[0m\u001b[0;34m,\u001b[0m \u001b[0mapply_to\u001b[0m\u001b[0;34m)\u001b[0m\u001b[0;34m\u001b[0m\u001b[0m\n\u001b[0m\u001b[1;32m    534\u001b[0m \u001b[0;34m\u001b[0m\u001b[0m\n\u001b[1;32m    535\u001b[0m     \u001b[0;31m# --------------------------------------------------------------\u001b[0m\u001b[0;34m\u001b[0m\u001b[0;34m\u001b[0m\u001b[0m\n",
      "\u001b[0;32m<ipython-input-21-10325c0cef87>\u001b[0m in \u001b[0;36m__call__\u001b[0;34m(self, img)\u001b[0m\n\u001b[1;32m     13\u001b[0m \u001b[0;34m\u001b[0m\u001b[0m\n\u001b[1;32m     14\u001b[0m         \u001b[0;31m# Step 2: Applying Thresholds\u001b[0m\u001b[0;34m\u001b[0m\u001b[0;34m\u001b[0m\u001b[0m\n\u001b[0;32m---> 15\u001b[0;31m         \u001b[0mprocessed_image\u001b[0m \u001b[0;34m=\u001b[0m \u001b[0mget_thresholded_image\u001b[0m\u001b[0;34m(\u001b[0m\u001b[0mprocessed_image\u001b[0m\u001b[0;34m)\u001b[0m\u001b[0;34m\u001b[0m\u001b[0m\n\u001b[0m\u001b[1;32m     16\u001b[0m \u001b[0;34m\u001b[0m\u001b[0m\n\u001b[1;32m     17\u001b[0m         \u001b[0;31m# Step 3: Changing Perspective\u001b[0m\u001b[0;34m\u001b[0m\u001b[0;34m\u001b[0m\u001b[0m\n",
      "\u001b[0;32m<ipython-input-7-7a68a5527c89>\u001b[0m in \u001b[0;36mget_thresholded_image\u001b[0;34m(img)\u001b[0m\n\u001b[1;32m      1\u001b[0m \u001b[0;32mdef\u001b[0m \u001b[0mget_thresholded_image\u001b[0m\u001b[0;34m(\u001b[0m\u001b[0mimg\u001b[0m\u001b[0;34m)\u001b[0m\u001b[0;34m:\u001b[0m\u001b[0;34m\u001b[0m\u001b[0m\n\u001b[1;32m      2\u001b[0m \u001b[0;34m\u001b[0m\u001b[0m\n\u001b[0;32m----> 3\u001b[0;31m     \u001b[0mgradient_masks\u001b[0m \u001b[0;34m=\u001b[0m \u001b[0mapply_gradient_pipeline\u001b[0m\u001b[0;34m(\u001b[0m\u001b[0mimg\u001b[0m\u001b[0;34m)\u001b[0m\u001b[0;34m\u001b[0m\u001b[0m\n\u001b[0m\u001b[1;32m      4\u001b[0m     \u001b[0mcolor_masks\u001b[0m \u001b[0;34m=\u001b[0m \u001b[0mapply_color_pipeline\u001b[0m\u001b[0;34m(\u001b[0m\u001b[0mimg\u001b[0m\u001b[0;34m)\u001b[0m\u001b[0;34m\u001b[0m\u001b[0m\n\u001b[1;32m      5\u001b[0m \u001b[0;34m\u001b[0m\u001b[0m\n",
      "\u001b[0;31mNameError\u001b[0m: name 'apply_gradient_pipeline' is not defined"
     ]
    }
   ],
   "source": [
    "name = \"challenge_video.mp4\"\n",
    "output = f'output_videos/{name}'\n",
    "\n",
    "clip1 = VideoFileClip(name)\n",
    "clip = clip1.fl_image(lane_detector) \n",
    "%time clip.write_videofile(output, audio=False)"
   ]
  },
  {
   "cell_type": "code",
   "execution_count": null,
   "metadata": {},
   "outputs": [],
   "source": [
    "HTML(\"\"\"\n",
    "<video width=\"960\" height=\"540\" controls>\n",
    "  <source src=\"{0}\">\n",
    "</video>\n",
    "\"\"\".format(output))"
   ]
  },
  {
   "cell_type": "code",
   "execution_count": null,
   "metadata": {},
   "outputs": [],
   "source": [
    "name = \"harder_challenge_video.mp4\"\n",
    "output = f'output_videos/{name}'\n",
    "\n",
    "clip1 = VideoFileClip(name)\n",
    "clip = clip1.fl_image(lane_detector) \n",
    "%time clip.write_videofile(output, audio=False)"
   ]
  },
  {
   "cell_type": "code",
   "execution_count": null,
   "metadata": {},
   "outputs": [],
   "source": [
    "HTML(\"\"\"\n",
    "<video width=\"960\" height=\"540\" controls>\n",
    "  <source src=\"{0}\">\n",
    "</video>\n",
    "\"\"\".format(output))"
   ]
  },
  {
   "cell_type": "code",
   "execution_count": null,
   "metadata": {},
   "outputs": [],
   "source": []
  }
 ],
 "metadata": {
  "anaconda-cloud": {},
  "kernelspec": {
   "display_name": "Python 3",
   "language": "python",
   "name": "python3"
  },
  "language_info": {
   "codemirror_mode": {
    "name": "ipython",
    "version": 3
   },
   "file_extension": ".py",
   "mimetype": "text/x-python",
   "name": "python",
   "nbconvert_exporter": "python",
   "pygments_lexer": "ipython3",
   "version": "3.6.3"
  }
 },
 "nbformat": 4,
 "nbformat_minor": 1
}
