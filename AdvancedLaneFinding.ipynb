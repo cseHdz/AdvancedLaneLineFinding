{
 "cells": [
  {
   "cell_type": "markdown",
   "metadata": {},
   "source": [
    "## Advanced Lane Finding Project\n",
    "\n",
    "The goals / steps of this project are the following:\n",
    "\n",
    "1. [Camera Calibration](#calibration)\n",
    "2. [Distortion Correction](#distortion)\n",
    "3. [Tranformations To A Binary Image](#transformations)\n",
    "4. [Perspective Transform](#perspective)\n",
    "5. Detect lane pixels and fit to find the lane boundary.\n",
    "5. Determine the curvature of the lane and vehicle position with respect to center.\n",
    "6. Warp the detected lane boundaries back onto the original image.\n",
    "7. Output visual display of the lane boundaries and numerical estimation of lane curvature and vehicle position.\n",
    "\n",
    "---"
   ]
  },
  {
   "cell_type": "code",
   "execution_count": null,
   "metadata": {},
   "outputs": [],
   "source": [
    "rows = 4\n",
    "cols = len(images)//rows\n",
    "    \n",
    "fig=plt.figure(figsize=(200, 200))\n",
    "\n",
    "fig.add_subplot(rows, cols, i + 1)"
   ]
  },
  {
   "cell_type": "markdown",
   "metadata": {},
   "source": [
    "## Setup"
   ]
  },
  {
   "cell_type": "code",
   "execution_count": 6,
   "metadata": {},
   "outputs": [],
   "source": [
    "import numpy as np\n",
    "import cv2\n",
    "import glob\n",
    "import matplotlib.pyplot as plt\n",
    "import matplotlib.image as mpimg\n",
    "\n",
    "%matplotlib inline"
   ]
  },
  {
   "cell_type": "code",
   "execution_count": 13,
   "metadata": {},
   "outputs": [],
   "source": [
    "DEBUG = False\n",
    "SHOW_IMAGES = False"
   ]
  },
  {
   "cell_type": "markdown",
   "metadata": {},
   "source": [
    "## Camera Calibration <a name=\"calibration\"></a>\n",
    "\n",
    "Goal: Compute the camera calibration matrix and distortion coefficients given a set of chessboard images."
   ]
  },
  {
   "cell_type": "code",
   "execution_count": 7,
   "metadata": {},
   "outputs": [],
   "source": [
    "def calibrate_camera(nx, ny, images, DEBUG = False, SHOW_IMAGES = False):\n",
    "    \n",
    "    \"\"\"\n",
    "    Calibrate camera using a set of calibration images with chessboards.\n",
    "    Returns:\n",
    "        mtx: Camera Matrix\n",
    "        dist: Distortion coefficients\n",
    "    \"\"\"\n",
    "\n",
    "    # 3-D points: (x, y, z)\n",
    "    objp = np.zeros((nx*ny,3), np.float32)\n",
    "    objp[:,:2] = np.mgrid[0:nx,0:ny].T.reshape(-1,2)\n",
    "\n",
    "    # Arrays to store object points and image points from all the images.\n",
    "    objpoints = [] # 3d points in real world space\n",
    "    imgpoints = [] # 2d points in image plane.\n",
    "\n",
    "\n",
    "    # Step through the list and search for chessboard corners\n",
    "    for i in range(0, len(images)):\n",
    "        \n",
    "        # Read Image\n",
    "        img = cv2.imread(images[i])\n",
    "        \n",
    "        # Convert to Gray Scale\n",
    "        gray = cv2.cvtColor(img,cv2.COLOR_BGR2GRAY)\n",
    "\n",
    "        # Find the chessboard corners\n",
    "        ret, corners = cv2.findChessboardCorners(gray, (nx,ny), None)\n",
    "        \n",
    "        if (DEBUG):\n",
    "            print(f\"Image {images[i]} ({i}/{len(images)}) - Corners Found: {ret}\")\n",
    "\n",
    "        # If found, add object points, image points\n",
    "        if ret == True:\n",
    "            objpoints.append(objp)\n",
    "            imgpoints.append(corners)\n",
    "\n",
    "            # Draw and display the corners\n",
    "            cv2.drawChessboardCorners(img, (nx, ny), corners, ret)\n",
    "                   \n",
    "    # Calibrate Camera using object points and image points\n",
    "    # ret, mtx, dist, rvecs, tvecs - Ignoring irrelvant outputs for this project\n",
    "    _, mtx, dist, _, _ = cv2.calibrateCamera(objpoints, imgpoints, \n",
    "                                             gray.shape[::-1],None,None)\n",
    "    \n",
    "    \n",
    "    # Return Camera matrix and distortion coefficients\n",
    "    return mtx, dist"
   ]
  },
  {
   "cell_type": "code",
   "execution_count": null,
   "metadata": {},
   "outputs": [],
   "source": [
    "# Number of Corners\n",
    "nx = 9\n",
    "ny = 6\n",
    "\n",
    "# Make a list of calibration images\n",
    "calibration_path = './camera_cal/calibration*.jpg'\n",
    "cal_images = glob.glob(calibration_path)\n",
    "\n",
    "# Get camera metrix and distortion coefficient\n",
    "mtx, dist = calibrate_camera(nx, ny, cal_images, DEBUG, SHOW_IMAGES)"
   ]
  },
  {
   "cell_type": "markdown",
   "metadata": {},
   "source": [
    "## Distortion Correction <a name=\"distortion\"></a>\n",
    "\n",
    "Goal: Apply a distortion correction to raw images."
   ]
  },
  {
   "cell_type": "code",
   "execution_count": 8,
   "metadata": {},
   "outputs": [],
   "source": [
    "def undistort_image(img, mtx, dist):\n",
    "    \n",
    "    \"\"\"\n",
    "    Undistorts the image after camera calibration.\n",
    "    Returns:\n",
    "        img: Undistorted Image\n",
    "    \"\"\"\n",
    "    \n",
    "    return cv2.undistort(img, mtx, dist, None, mtx)"
   ]
  },
  {
   "cell_type": "markdown",
   "metadata": {},
   "source": [
    "## Transformation to Binary Image <a name=\"transformations\"></a>\n",
    "Goal: Use color transforms, gradients, etc., to create a thresholded binary image."
   ]
  },
  {
   "cell_type": "code",
   "execution_count": 9,
   "metadata": {},
   "outputs": [],
   "source": [
    "# Helper Functions\n",
    "def get_gradient(img, vertical_gradient = True, sobel_kernel=3):\n",
    "    \n",
    "    # Calculate the gradient\n",
    "    return cv2.Sobel(gray, cv2.CV_64F, vertical_gradient, not(vertical_gradient))\n",
    "\n",
    "def scale_mtx_to_8bit(mtx):\n",
    "    \n",
    "    scale_factor = np.max(mtx)/255 \n",
    "    return (mtx/scale_factor).astype(np.uint8) \n",
    "\n",
    "def apply_thresholds(mtx, threshold=(0,255), scale = False):\n",
    "    \n",
    "    # Scale the matrix to 8-bits\n",
    "    base = scale_mtx_to_8bit(mtx) if scale else mtx\n",
    "\n",
    "    # Prepare a binary matrix of equal size to the base\n",
    "    binary = np.zeros_like(base)\n",
    "    \n",
    "    # Apply thresholds - \"Activate\" pixels that meet criteira\n",
    "    binary[(base >= threshold[0]) & (base <= threshold[1])] = 1\n",
    "    \n",
    "    return binary"
   ]
  },
  {
   "cell_type": "code",
   "execution_count": 22,
   "metadata": {},
   "outputs": [],
   "source": [
    "# Gradient\n",
    "def apply_gradient_thresholds(gradient, threshold=(0,255)):\n",
    "    \n",
    "    # Get the absolute gradient\n",
    "    abs_sobel = np.absolute(gradient)\n",
    "    \n",
    "    # Apply thresholds in a binary matrix\n",
    "    return apply_thresholds(abs_sobel, threshold, scale = True)\n",
    "\n",
    "# Magnitude\n",
    "def apply_magnitude_thresholds(gradient_x, gradient_y, threshold=(0, 255)):\n",
    "    \n",
    "    # Calculate the gradient magnitude\n",
    "    magnitude = np.sqrt(gradient_x**2 + gradient_y**2)\n",
    "    \n",
    "    # Apply thresholds in a binary matrix\n",
    "    return apply_thresholds(magnitude, threshold, scale = True)\n",
    "\n",
    "# Direction\n",
    "def apply_direction_thresholds(gradient_x, gradient_y, threshold=(0, np.pi/2)):\n",
    "    \n",
    "    # Take the absolute value of the gradient direction, \n",
    "    \n",
    "    abs_gradient_direction = np.arctan2(np.absolute(gradient_y), np.absolute(gradient_x))\n",
    "    \n",
    "    # Apply thresholds in a binary matrix\n",
    "    return apply_thresholds(abs_gradient_direction, threshold)"
   ]
  },
  {
   "cell_type": "code",
   "execution_count": 55,
   "metadata": {},
   "outputs": [],
   "source": [
    "# Gradient Pipeline\n",
    "def apply_gradient_pipeline(img):\n",
    "\n",
    "    # Calculate the gradient\n",
    "    sobel_x = get_gradient(img, True)\n",
    "    sobel_y = get_gradient(img, False)\n",
    "\n",
    "    gradient_x_mask = apply_gradient_thresholds(sobel_x, threshold = (10,150))\n",
    "    direction_mask = apply_direction_thresholds(sobel_x, sobel_y, threshold = (20*np.pi/180, 70*np.pi/180))\n",
    "    magnitude_mask = apply_magnitude_thresholds(sobel_x, sobel_y, threshold = (30, 100))\n",
    "    \n",
    "    combined = np.zeros_like(direction_mask)\n",
    "    combined[(gradient_x_mask == 1) | ((magnitude_mask == 1) & (direction_mask == 1))] = 1\n",
    "    \n",
    "    return combined"
   ]
  },
  {
   "cell_type": "code",
   "execution_count": 167,
   "metadata": {},
   "outputs": [],
   "source": [
    "# Color\n",
    "def apply_red_threshold(img, threshold = (0, 255)):\n",
    "    \n",
    "    R = img[:,:,0]\n",
    "    return apply_thresholds(R, threshold)\n",
    "\n",
    "def apply_saturation_threshold(img, threshold = (0, 255)):\n",
    "    \n",
    "    hls = cv2.cvtColor(img, cv2.COLOR_RGB2HLS)\n",
    "    S = hls[:,:,2]\n",
    "    return apply_thresholds(S, threshold)\n",
    "\n",
    "def apply_color_pipeline(img):\n",
    "    \n",
    "    R_mask = apply_red_threshold(img, (210,255))\n",
    "    S_mask = apply_saturation_threshold(img, (90, 255))\n",
    "    \n",
    "    combined = np.zeros_like(S_mask)\n",
    "    combined[(R_mask == 1) & (S_mask == 1)] = 1\n",
    "    \n",
    "    return combined"
   ]
  },
  {
   "cell_type": "code",
   "execution_count": 187,
   "metadata": {},
   "outputs": [],
   "source": [
    "def get_thresholded_image(img):\n",
    "    \n",
    "    gray = cv2.cvtColor(img, cv2.COLOR_RGB2GRAY)\n",
    "\n",
    "    gradient_masks = apply_gradient_pipeline(gray)\n",
    "    color_masks = apply_color_pipeline(img)\n",
    "    \n",
    "    combined = np.zeros_like(color_masks)\n",
    "    combined[(gradient_masks == 1) | (color_masks == 1)] = 1\n",
    "    \n",
    "    return combined"
   ]
  },
  {
   "cell_type": "code",
   "execution_count": 191,
   "metadata": {},
   "outputs": [],
   "source": [
    "img = mpimg.imread(test_images[1]) "
   ]
  },
  {
   "cell_type": "code",
   "execution_count": 192,
   "metadata": {},
   "outputs": [
    {
     "data": {
      "text/plain": [
       "<matplotlib.image.AxesImage at 0x7f3e6ae91cc0>"
      ]
     },
     "execution_count": 192,
     "metadata": {},
     "output_type": "execute_result"
    },
    {
     "data": {
      "image/png": "[encoded data removed]",
      "text/plain": [
       "<matplotlib.figure.Figure at 0x7f3e6af0dd30>"
      ]
     },
     "metadata": {
      "needs_background": "light"
     },
     "output_type": "display_data"
    }
   ],
   "source": [
    "plt.imshow(get_thresholded_image(img), cmap='gray')"
   ]
  },
  {
   "cell_type": "markdown",
   "metadata": {},
   "source": [
    "## Perspective Transform <a name=\"perspective\"></a>\n",
    "Goal: Apply a perspective transform to rectify binary image (\"birds-eye view\")."
   ]
  },
  {
   "cell_type": "code",
   "execution_count": null,
   "metadata": {},
   "outputs": [],
   "source": [
    "M = cv2.getPerspectiveTransform(src, dst)\n",
    "Minv = cv2.getPerspectiveTransform(dst, src)\n",
    "warped = cv2.warpPerspective(img, M, img_size, flags=cv2.INTER_LINEAR)"
   ]
  },
  {
   "cell_type": "markdown",
   "metadata": {},
   "source": [
    "# Final Pipeline"
   ]
  },
  {
   "cell_type": "code",
   "execution_count": 76,
   "metadata": {},
   "outputs": [],
   "source": [
    "# Make a list of calibration images\n",
    "test_image_path = './test_images/*.jpg'\n",
    "test_images = glob.glob(test_image_path)"
   ]
  },
  {
   "cell_type": "code",
   "execution_count": 50,
   "metadata": {},
   "outputs": [
    {
     "ename": "NameError",
     "evalue": "name 'test_images' is not defined",
     "output_type": "error",
     "traceback": [
      "\u001b[0;31m---------------------------------------------------------------------------\u001b[0m",
      "\u001b[0;31mNameError\u001b[0m                                 Traceback (most recent call last)",
      "\u001b[0;32m<ipython-input-50-440f89b25fd9>\u001b[0m in \u001b[0;36m<module>\u001b[0;34m()\u001b[0m\n\u001b[0;32m----> 1\u001b[0;31m \u001b[0;32mfor\u001b[0m \u001b[0mfname\u001b[0m \u001b[0;32min\u001b[0m \u001b[0mtest_images\u001b[0m\u001b[0;34m:\u001b[0m\u001b[0;34m\u001b[0m\u001b[0m\n\u001b[0m\u001b[1;32m      2\u001b[0m \u001b[0;34m\u001b[0m\u001b[0m\n\u001b[1;32m      3\u001b[0m     \u001b[0mimg\u001b[0m \u001b[0;34m=\u001b[0m \u001b[0mmpimg\u001b[0m\u001b[0;34m.\u001b[0m\u001b[0mimread\u001b[0m\u001b[0;34m(\u001b[0m\u001b[0mfname\u001b[0m\u001b[0;34m)\u001b[0m\u001b[0;34m\u001b[0m\u001b[0m\n\u001b[1;32m      4\u001b[0m     \u001b[0mprocessed_image\u001b[0m \u001b[0;34m=\u001b[0m \u001b[0mundistort_image\u001b[0m\u001b[0;34m(\u001b[0m\u001b[0mimg\u001b[0m\u001b[0;34m,\u001b[0m \u001b[0mmtx\u001b[0m\u001b[0;34m,\u001b[0m \u001b[0mdist\u001b[0m\u001b[0;34m)\u001b[0m\u001b[0;34m\u001b[0m\u001b[0m\n\u001b[1;32m      5\u001b[0m \u001b[0;34m\u001b[0m\u001b[0m\n",
      "\u001b[0;31mNameError\u001b[0m: name 'test_images' is not defined"
     ]
    }
   ],
   "source": [
    "for fname in test_images:\n",
    "    \n",
    "    img = mpimg.imread(fname) \n",
    "    processed_image = undistort_image(img, mtx, dist)\n",
    "    \n",
    "    processed_image = get_thresholded_image(processed_image)"
   ]
  },
  {
   "cell_type": "code",
   "execution_count": null,
   "metadata": {},
   "outputs": [],
   "source": []
  }
 ],
 "metadata": {
  "anaconda-cloud": {},
  "kernelspec": {
   "display_name": "Python 3",
   "language": "python",
   "name": "python3"
  },
  "language_info": {
   "codemirror_mode": {
    "name": "ipython",
    "version": 3
   },
   "file_extension": ".py",
   "mimetype": "text/x-python",
   "name": "python",
   "nbconvert_exporter": "python",
   "pygments_lexer": "ipython3",
   "version": "3.6.3"
  }
 },
 "nbformat": 4,
 "nbformat_minor": 1
}
